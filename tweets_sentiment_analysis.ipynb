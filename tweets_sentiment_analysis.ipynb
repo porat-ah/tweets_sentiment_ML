{
 "cells": [
  {
   "cell_type": "code",
   "execution_count": null,
   "id": "3656e47f",
   "metadata": {
    "ExecuteTime": {
     "end_time": "2022-07-05T12:36:57.425929Z",
     "start_time": "2022-07-05T12:36:55.024342Z"
    }
   },
   "outputs": [],
   "source": [
    "import pandas as pd\n",
    "import numpy as np\n",
    "import seaborn as sns\n",
    "import matplotlib.pyplot as plt\n",
    "\n",
    "import plotly.io as pio\n",
    "pio.templates.default = \"plotly_dark\"\n",
    "import plotly.express as px\n",
    "import plotly.graph_objects as go\n",
    "\n",
    "import re\n",
    "import string\n",
    "\n",
    "from nltk.tokenize import word_tokenize\n",
    "from nltk.stem import WordNetLemmatizer\n",
    "from nltk.corpus import stopwords\n",
    "from nltk.sentiment.vader import SentimentIntensityAnalyzer\n",
    "\n",
    "from wordcloud import WordCloud, STOPWORDS\n",
    "\n",
    "import nltk\n",
    "# nltk.download('punkt')\n",
    "# nltk.download('omw-1.4')\n",
    "# nltk.download('stopwords')\n",
    "\n",
    "import warnings\n",
    "warnings.filterwarnings(\"ignore\")"
   ]
  },
  {
   "cell_type": "markdown",
   "id": "7ee14821",
   "metadata": {},
   "source": [
    "# Data Importing"
   ]
  },
  {
   "cell_type": "code",
   "execution_count": null,
   "id": "c135d0a2",
   "metadata": {
    "ExecuteTime": {
     "end_time": "2022-07-05T12:36:57.536979Z",
     "start_time": "2022-07-05T12:36:57.459946Z"
    }
   },
   "outputs": [],
   "source": [
    "df = pd.read_csv(\"Tweets.csv\")"
   ]
  },
  {
   "cell_type": "code",
   "execution_count": null,
   "id": "69cbff27",
   "metadata": {
    "ExecuteTime": {
     "end_time": "2022-07-05T12:36:57.599685Z",
     "start_time": "2022-07-05T12:36:57.571691Z"
    }
   },
   "outputs": [],
   "source": [
    "df.head()"
   ]
  },
  {
   "cell_type": "code",
   "execution_count": null,
   "id": "37604e4f",
   "metadata": {
    "ExecuteTime": {
     "end_time": "2022-07-05T12:36:57.678677Z",
     "start_time": "2022-07-05T12:36:57.635778Z"
    },
    "scrolled": true
   },
   "outputs": [],
   "source": [
    "df.info()"
   ]
  },
  {
   "cell_type": "markdown",
   "id": "cba50b04",
   "metadata": {},
   "source": [
    "# preprocessing"
   ]
  },
  {
   "cell_type": "code",
   "execution_count": null,
   "id": "814f5069",
   "metadata": {
    "ExecuteTime": {
     "end_time": "2022-07-05T12:36:57.740889Z",
     "start_time": "2022-07-05T12:36:57.711683Z"
    }
   },
   "outputs": [],
   "source": [
    "df.dropna(inplace= True)"
   ]
  },
  {
   "cell_type": "code",
   "execution_count": null,
   "id": "06127785",
   "metadata": {
    "ExecuteTime": {
     "end_time": "2022-07-05T12:36:57.786892Z",
     "start_time": "2022-07-05T12:36:57.772882Z"
    }
   },
   "outputs": [],
   "source": [
    "df1 = df.drop([\"textID\" , \"selected_text\"] , axis = 1)"
   ]
  },
  {
   "cell_type": "code",
   "execution_count": null,
   "id": "119ed917",
   "metadata": {
    "ExecuteTime": {
     "end_time": "2022-07-05T12:36:57.849070Z",
     "start_time": "2022-07-05T12:36:57.837039Z"
    }
   },
   "outputs": [],
   "source": [
    "_stopwords = set(STOPWORDS).union(stopwords.words('english'))"
   ]
  },
  {
   "cell_type": "code",
   "execution_count": null,
   "id": "8e87d835",
   "metadata": {
    "ExecuteTime": {
     "end_time": "2022-07-05T12:36:58.206943Z",
     "start_time": "2022-07-05T12:36:58.190684Z"
    }
   },
   "outputs": [],
   "source": [
    "_stopwords.add(\"like\")"
   ]
  },
  {
   "cell_type": "code",
   "execution_count": null,
   "id": "dccae555",
   "metadata": {
    "ExecuteTime": {
     "end_time": "2022-07-05T12:36:58.552884Z",
     "start_time": "2022-07-05T12:36:58.548762Z"
    },
    "scrolled": false
   },
   "outputs": [],
   "source": [
    "# removes text from tweets \n",
    "def preprocessor(text):\n",
    "    text = re.sub('[^a-zA-Z]',' ',text)\n",
    "    text = text.lower()\n",
    "    text = text.strip()\n",
    "    text = ' '.join([WordNetLemmatizer().lemmatize(word,pos='v') for word in word_tokenize(text)])    \n",
    "    text = ' '.join([word for word in word_tokenize(text) if word not in _stopwords])\n",
    "    return text"
   ]
  },
  {
   "cell_type": "code",
   "execution_count": null,
   "id": "e21b415b",
   "metadata": {
    "ExecuteTime": {
     "end_time": "2022-07-05T12:37:07.074449Z",
     "start_time": "2022-07-05T12:36:58.965938Z"
    }
   },
   "outputs": [],
   "source": [
    "df1[\"text\"] = df1[\"text\"].apply(preprocessor)"
   ]
  },
  {
   "cell_type": "code",
   "execution_count": null,
   "id": "6beb9f69",
   "metadata": {
    "ExecuteTime": {
     "end_time": "2022-07-05T12:37:07.137308Z",
     "start_time": "2022-07-05T12:37:07.127297Z"
    }
   },
   "outputs": [],
   "source": [
    "df1.insert(2,\"label\" , df1.sentiment.map({\"neutral\" : 0, \"negative\": -1 , \"positive\" : 1}))"
   ]
  },
  {
   "cell_type": "code",
   "execution_count": null,
   "id": "8c8e8d2e",
   "metadata": {
    "ExecuteTime": {
     "end_time": "2022-07-05T12:37:07.184884Z",
     "start_time": "2022-07-05T12:37:07.172883Z"
    }
   },
   "outputs": [],
   "source": [
    "# df1.to_csv(\"Tweets_preprocessed.csv\")"
   ]
  },
  {
   "cell_type": "code",
   "execution_count": null,
   "id": "7ba03989",
   "metadata": {
    "ExecuteTime": {
     "end_time": "2022-07-05T12:37:07.232946Z",
     "start_time": "2022-07-05T12:37:07.221882Z"
    }
   },
   "outputs": [],
   "source": [
    "df1.head()"
   ]
  },
  {
   "cell_type": "code",
   "execution_count": null,
   "id": "647c1fe0",
   "metadata": {
    "ExecuteTime": {
     "end_time": "2022-07-05T12:37:07.341842Z",
     "start_time": "2022-07-05T12:37:07.328842Z"
    }
   },
   "outputs": [],
   "source": [
    "df1.tail()"
   ]
  },
  {
   "cell_type": "markdown",
   "id": "2f6cbdaf",
   "metadata": {},
   "source": [
    "# Data Analyzing "
   ]
  },
  {
   "cell_type": "code",
   "execution_count": null,
   "id": "899eaa72",
   "metadata": {
    "ExecuteTime": {
     "end_time": "2022-07-05T12:37:07.390024Z",
     "start_time": "2022-07-05T12:37:07.374852Z"
    }
   },
   "outputs": [],
   "source": [
    "colormap = {\"positive\" : \"white\" ,\n",
    "           \"negative\": \"red\",\n",
    "           \"neutral\" : \"blue\"}"
   ]
  },
  {
   "cell_type": "markdown",
   "id": "3f1c191f",
   "metadata": {},
   "source": [
    "## Label Stats"
   ]
  },
  {
   "cell_type": "code",
   "execution_count": null,
   "id": "c9f70250",
   "metadata": {
    "ExecuteTime": {
     "end_time": "2022-07-05T12:37:07.453351Z",
     "start_time": "2022-07-05T12:37:07.422270Z"
    }
   },
   "outputs": [],
   "source": [
    "df1.describe()"
   ]
  },
  {
   "cell_type": "code",
   "execution_count": null,
   "id": "994728ab",
   "metadata": {
    "ExecuteTime": {
     "end_time": "2022-07-05T12:37:08.434157Z",
     "start_time": "2022-07-05T12:37:07.506737Z"
    }
   },
   "outputs": [],
   "source": [
    "px.pie(df , names = \"sentiment\" , values = np.ones_like(df1.sentiment) ,color = \"sentiment\" , color_discrete_map = colormap , hole= 0.3 )"
   ]
  },
  {
   "cell_type": "markdown",
   "id": "ebe7f0c2",
   "metadata": {},
   "source": [
    "## Word frequency"
   ]
  },
  {
   "cell_type": "code",
   "execution_count": null,
   "id": "26f0f5c7",
   "metadata": {
    "ExecuteTime": {
     "end_time": "2022-07-05T12:37:08.482038Z",
     "start_time": "2022-07-05T12:37:08.467036Z"
    }
   },
   "outputs": [],
   "source": [
    "# converts the data to one string\n",
    "def all_text(text_df):\n",
    "    combine = \"\"\n",
    "    for l in text_df.values:\n",
    "        combine += ' '.join(x for x in l.split() if len(x) > 3  )\n",
    "    return combine"
   ]
  },
  {
   "cell_type": "code",
   "execution_count": null,
   "id": "3cf17a72",
   "metadata": {
    "ExecuteTime": {
     "end_time": "2022-07-05T12:37:08.545189Z",
     "start_time": "2022-07-05T12:37:08.533189Z"
    }
   },
   "outputs": [],
   "source": [
    "# creates a word frequency series\n",
    "def word_freq(text_df):\n",
    "    freq = nltk.FreqDist(all_text(text_df).split())\n",
    "    freq_df = pd.DataFrame({\"words\" : list(freq.keys()),\n",
    "                           \"count\" : list(freq.values())})\n",
    "    return freq_df.sort_values(\"count\" , ascending= False)"
   ]
  },
  {
   "cell_type": "code",
   "execution_count": null,
   "id": "1093d0cb",
   "metadata": {
    "ExecuteTime": {
     "end_time": "2022-07-05T12:37:08.766411Z",
     "start_time": "2022-07-05T12:37:08.579269Z"
    },
    "scrolled": true
   },
   "outputs": [],
   "source": [
    "neut_freq = word_freq(df1[df1.sentiment == \"neutral\"][\"text\"])\n",
    "\n",
    "pos_freq =  word_freq(df1[df1.sentiment == \"positive\"][\"text\"])\n",
    "\n",
    "neg_freq =  word_freq(df1[df1.sentiment == \"negative\"][\"text\"])"
   ]
  },
  {
   "cell_type": "code",
   "execution_count": null,
   "id": "1549d0a6",
   "metadata": {
    "ExecuteTime": {
     "end_time": "2022-07-05T12:37:08.846062Z",
     "start_time": "2022-07-05T12:37:08.832058Z"
    }
   },
   "outputs": [],
   "source": [
    "# create a wordcloud image\n",
    "def draw_wordcloud(words_df , title , color):\n",
    "    plt.imshow(WordCloud(stopwords = _stopwords, background_color = color).fit_words(words_df.set_index(\"words\").to_dict()[\"count\"]))\n",
    "    plt.title(title)\n",
    "    plt.axis(\"off\")"
   ]
  },
  {
   "cell_type": "code",
   "execution_count": null,
   "id": "feafd7ef",
   "metadata": {
    "ExecuteTime": {
     "end_time": "2022-07-05T12:37:11.294338Z",
     "start_time": "2022-07-05T12:37:08.942301Z"
    }
   },
   "outputs": [],
   "source": [
    "plt.figure(figsize= (20 , 30) ,facecolor='black')\n",
    "plt.subplot(1, 3 ,1)\n",
    "draw_wordcloud(neg_freq , \"negitive words\" , colormap[\"negative\"])\n",
    "\n",
    "plt.subplot(1, 3 ,2)\n",
    "draw_wordcloud(neut_freq , \"neutral words\" , colormap[\"neutral\"])\n",
    "\n",
    "plt.subplot(1 , 3 , 3)\n",
    "draw_wordcloud(pos_freq , \"positive words\" , colormap[\"positive\"])\n",
    "\n",
    "plt.show()"
   ]
  },
  {
   "cell_type": "code",
   "execution_count": null,
   "id": "b2b45ebc",
   "metadata": {
    "ExecuteTime": {
     "end_time": "2022-07-05T12:37:11.372794Z",
     "start_time": "2022-07-05T12:37:11.361033Z"
    }
   },
   "outputs": [],
   "source": [
    "neut_freq.insert(1 , \"sentiment\" ,\"neutral\" )\n",
    "neg_freq.insert(1 , \"sentiment\" ,\"negative\" )\n",
    "pos_freq.insert(1 , \"sentiment\" ,\"positive\" )"
   ]
  },
  {
   "cell_type": "code",
   "execution_count": null,
   "id": "f45e15aa",
   "metadata": {
    "ExecuteTime": {
     "end_time": "2022-07-05T12:37:11.482411Z",
     "start_time": "2022-07-05T12:37:11.467404Z"
    }
   },
   "outputs": [],
   "source": [
    "freq_words = pd.concat([ neut_freq[: 10] , neg_freq[: 10] ,pos_freq[: 10]])"
   ]
  },
  {
   "cell_type": "code",
   "execution_count": null,
   "id": "734e2bf5",
   "metadata": {
    "ExecuteTime": {
     "end_time": "2022-07-05T12:37:12.443558Z",
     "start_time": "2022-07-05T12:37:11.578946Z"
    }
   },
   "outputs": [],
   "source": [
    "px.sunburst(freq_words ,path= [\"sentiment\" , \"words\"],values = \"count\" , color = \"sentiment\" , color_discrete_map = colormap )"
   ]
  },
  {
   "cell_type": "markdown",
   "id": "7f4b5b11",
   "metadata": {},
   "source": [
    "## Text stats"
   ]
  },
  {
   "cell_type": "code",
   "execution_count": null,
   "id": "80a38ca5",
   "metadata": {
    "ExecuteTime": {
     "end_time": "2022-07-05T12:37:12.522560Z",
     "start_time": "2022-07-05T12:37:12.509561Z"
    }
   },
   "outputs": [],
   "source": [
    "def get_lengths(df , sentiment):\n",
    "    twt_lengths = []\n",
    "    wrd_length = []\n",
    "    for twt in df[df.sentiment == sentiment].text:\n",
    "        twt_splt = twt.split()\n",
    "        twt_lengths.append(len(twt_splt))\n",
    "        for w in twt_splt:\n",
    "            wrd_length.append(len(w))\n",
    "    _df = pd.DataFrame({\"twt_length\" : twt_lengths})\n",
    "    _df.insert(1 , \"sentiment\" ,sentiment )\n",
    "    _df2 = pd.DataFrame({\"wrd_length\" : wrd_length}) \n",
    "    _df2.insert(1 , \"sentiment\" ,sentiment )\n",
    "    return _df , _df2"
   ]
  },
  {
   "cell_type": "code",
   "execution_count": null,
   "id": "de3665a1",
   "metadata": {
    "ExecuteTime": {
     "end_time": "2022-07-05T12:37:12.775024Z",
     "start_time": "2022-07-05T12:37:12.587617Z"
    }
   },
   "outputs": [],
   "source": [
    "neut_len = get_lengths(df , \"neutral\")\n",
    "pos_len =  get_lengths(df , \"positive\")\n",
    "neg_len = get_lengths(df , \"negative\")\n",
    "\n",
    "twt_len = pd.concat([neut_len[0] , pos_len[0] ,  neg_len[0]])\n",
    "wrd_len = pd.concat([neut_len[1] , pos_len[1] ,  neg_len[1]])"
   ]
  },
  {
   "cell_type": "code",
   "execution_count": null,
   "id": "2409e952",
   "metadata": {
    "ExecuteTime": {
     "end_time": "2022-07-05T12:37:13.819784Z",
     "start_time": "2022-07-05T12:37:12.906414Z"
    }
   },
   "outputs": [],
   "source": [
    "fig = px.histogram(twt_len , x= 'twt_length'  , color=\"sentiment\", marginal=\"box\" , color_discrete_map= colormap , title = \"tweets length\")\n",
    "fig.update_layout(\n",
    "    updatemenus=[\n",
    "        dict(\n",
    "            type=\"buttons\",\n",
    "            bgcolor = \"rgb(17,17,17)\",\n",
    "            direction=\"right\",\n",
    "            font = {\"color\": \"white\"},\n",
    "            showactive = False,\n",
    "            x=1.15,\n",
    "            y=0,\n",
    "            buttons=list(\n",
    "                [\n",
    "                    dict(\n",
    "                        label=\"tweets / words\",\n",
    "                        method=\"update\",\n",
    "                        args=[{\"x\": [twt_len[\"twt_length\"]] },{\"title\" : \"tweets length\" , \"xaxis\": {'title': \"twt_length\"}}], # , \"xaxis\":[{'title': {'text': 'twt_length'}}]\n",
    "                        args2 = [{\"x\": [wrd_len[\"wrd_length\"]]},{\"title\" : \"words length\" , \"xaxis\": { 'title': \"wrd_length\"}}]\n",
    "                    ),\n",
    "                ]\n",
    "            ),\n",
    "        )\n",
    "    ]\n",
    ")"
   ]
  },
  {
   "cell_type": "markdown",
   "id": "8929721f",
   "metadata": {},
   "source": [
    "## objects deletion "
   ]
  },
  {
   "cell_type": "code",
   "execution_count": null,
   "id": "c2ae2791",
   "metadata": {
    "ExecuteTime": {
     "end_time": "2022-07-05T12:40:28.628301Z",
     "start_time": "2022-07-05T12:40:28.621304Z"
    }
   },
   "outputs": [],
   "source": [
    "# free space for model calculation\n",
    "\n",
    "del STOPWORDS\n",
    "del fig\n",
    "del freq_words\n",
    "del neg_freq\n",
    "del neg_len\n",
    "del neut_freq\n",
    "del neut_len\n",
    "del pos_freq\n",
    "del pos_len\n",
    "del stopwords\n",
    "del twt_len\n",
    "del wrd_len\n",
    "del _stopwords"
   ]
  },
  {
   "cell_type": "markdown",
   "id": "26f08e4b",
   "metadata": {},
   "source": [
    "# Model creation"
   ]
  },
  {
   "cell_type": "code",
   "execution_count": null,
   "id": "d0494836",
   "metadata": {
    "ExecuteTime": {
     "end_time": "2022-07-05T12:40:29.722468Z",
     "start_time": "2022-07-05T12:40:29.685409Z"
    }
   },
   "outputs": [],
   "source": [
    "from sklearn.model_selection import train_test_split , cross_validate , GridSearchCV\n",
    "from sklearn.metrics import classification_report , confusion_matrix\n",
    "from sklearn.feature_extraction.text import TfidfVectorizer\n",
    "from sklearn.decomposition import TruncatedSVD\n",
    "import joblib"
   ]
  },
  {
   "cell_type": "code",
   "execution_count": null,
   "id": "99d32851",
   "metadata": {
    "ExecuteTime": {
     "end_time": "2022-07-05T12:40:35.636663Z",
     "start_time": "2022-07-05T12:40:35.629374Z"
    }
   },
   "outputs": [],
   "source": [
    "def model_analasys(y_true , y_pred):\n",
    "    labels = [\"negative\" , \"neutral\" , \"positive\"]\n",
    "    print(classification_report(y_true= y_true , y_pred = y_pred ,target_names= labels))\n",
    "    fig = px.imshow(confusion_matrix(y_true= y_true , y_pred = y_pred ) ,x = labels , y = labels ,labels = {\"x\" : \"predicted\" , \"y\" : \"target\"} , color_continuous_scale= px.colors.sequential.PuBu)\n",
    "    fig.show()"
   ]
  },
  {
   "cell_type": "markdown",
   "id": "47a4eca4",
   "metadata": {},
   "source": [
    "## data preparation "
   ]
  },
  {
   "cell_type": "code",
   "execution_count": null,
   "id": "4081c2be",
   "metadata": {
    "ExecuteTime": {
     "end_time": "2022-07-05T12:40:36.289457Z",
     "start_time": "2022-07-05T12:40:36.277429Z"
    }
   },
   "outputs": [],
   "source": [
    "X = df1.text\n",
    "y = df1.label"
   ]
  },
  {
   "cell_type": "markdown",
   "id": "4267bd93",
   "metadata": {},
   "source": [
    "### TF IDF"
   ]
  },
  {
   "cell_type": "code",
   "execution_count": null,
   "id": "e8c29efa",
   "metadata": {
    "ExecuteTime": {
     "end_time": "2022-07-05T12:40:37.165755Z",
     "start_time": "2022-07-05T12:40:36.933378Z"
    }
   },
   "outputs": [],
   "source": [
    "tf_idf = TfidfVectorizer()\n",
    "X = tf_idf.fit_transform(X)"
   ]
  },
  {
   "cell_type": "code",
   "execution_count": null,
   "id": "57327dc0",
   "metadata": {
    "ExecuteTime": {
     "end_time": "2022-07-05T12:40:37.291456Z",
     "start_time": "2022-07-05T12:40:37.285459Z"
    }
   },
   "outputs": [],
   "source": [
    "X.shape"
   ]
  },
  {
   "cell_type": "markdown",
   "id": "d82f3984",
   "metadata": {},
   "source": [
    "### SVD"
   ]
  },
  {
   "cell_type": "code",
   "execution_count": null,
   "id": "8e7434cd",
   "metadata": {
    "ExecuteTime": {
     "end_time": "2022-07-05T12:40:39.091129Z",
     "start_time": "2022-07-05T12:40:38.933492Z"
    }
   },
   "outputs": [],
   "source": [
    "# svd = TruncatedSVD(10_000)\n",
    "# svd.fit(X)\n",
    "\n",
    "# exp_var_cumul = np.cumsum(svd.explained_variance_ratio_)\n",
    "# np.save(\"exp_var_cumul\" , exp_var_cumul)\n",
    "\n",
    "exp_var_cumul = np.load(\"exp_var_cumul.npy\")\n",
    "\n",
    "px.area(\n",
    "    x=range(1, exp_var_cumul.shape[0] + 1),\n",
    "    y=exp_var_cumul,\n",
    "    labels={\"x\": \"# Components\", \"y\": \"Explained Variance\"}\n",
    ")"
   ]
  },
  {
   "cell_type": "code",
   "execution_count": null,
   "id": "7a028812",
   "metadata": {
    "ExecuteTime": {
     "end_time": "2022-07-05T12:40:39.951400Z",
     "start_time": "2022-07-05T12:40:39.773429Z"
    }
   },
   "outputs": [],
   "source": [
    "svd = TruncatedSVD()\n",
    "X_2d = svd.fit_transform(X)"
   ]
  },
  {
   "cell_type": "code",
   "execution_count": null,
   "id": "52cb5804",
   "metadata": {
    "ExecuteTime": {
     "end_time": "2022-07-05T12:40:41.202441Z",
     "start_time": "2022-07-05T12:40:40.861423Z"
    }
   },
   "outputs": [],
   "source": [
    "px.scatter(x = X_2d[: ,0] , y = X_2d[: ,1]  , color= df1.sentiment , color_discrete_map= colormap)"
   ]
  },
  {
   "cell_type": "code",
   "execution_count": null,
   "id": "e14f84c7",
   "metadata": {
    "ExecuteTime": {
     "end_time": "2022-07-05T12:40:42.269601Z",
     "start_time": "2022-07-05T12:40:42.254603Z"
    }
   },
   "outputs": [],
   "source": [
    "svd = TruncatedSVD(4_000)\n",
    "X = svd.fit_transform(X)\n",
    "np.save(\"data_preprocessed\",X)"
   ]
  },
  {
   "cell_type": "code",
   "execution_count": null,
   "id": "f333d882",
   "metadata": {
    "ExecuteTime": {
     "end_time": "2022-07-05T12:40:44.193162Z",
     "start_time": "2022-07-05T12:40:42.869457Z"
    }
   },
   "outputs": [],
   "source": [
    "X = np.load(\"data_preprocessed.npy\")"
   ]
  },
  {
   "cell_type": "markdown",
   "id": "edfedc53",
   "metadata": {},
   "source": [
    "### Train Test Split"
   ]
  },
  {
   "cell_type": "code",
   "execution_count": null,
   "id": "d52df549",
   "metadata": {
    "ExecuteTime": {
     "end_time": "2022-07-05T12:40:45.415514Z",
     "start_time": "2022-07-05T12:40:45.093951Z"
    }
   },
   "outputs": [],
   "source": [
    "X_train , X_test , y_train , y_test =  train_test_split(X , y , test_size= 0.25 , random_state= 42)"
   ]
  },
  {
   "cell_type": "code",
   "execution_count": null,
   "id": "a5a75f3f",
   "metadata": {
    "ExecuteTime": {
     "end_time": "2022-07-05T12:40:45.929227Z",
     "start_time": "2022-07-05T12:40:45.909176Z"
    }
   },
   "outputs": [],
   "source": [
    "total_num_of_samples = X.shape[0]\n",
    "print(\"           | features | samples | %\")\n",
    "print(\"Data size  | \" ,X.shape[1] , \"   | \" , X.shape[0] , \" | \" , X.shape[0]/total_num_of_samples )\n",
    "print(\"Train size | \" ,X_train.shape[1] , \"   | \" , X_train.shape[0] , \" | \" , X_train.shape[0]/total_num_of_samples )\n",
    "print(\"Test size  | \" ,X_test.shape[1] , \"   | \" , X_test.shape[0] , \"  | \" , X_test.shape[0]/total_num_of_samples )"
   ]
  },
  {
   "cell_type": "markdown",
   "id": "2e3700b3",
   "metadata": {},
   "source": [
    "## basic models"
   ]
  },
  {
   "cell_type": "markdown",
   "id": "4c8a176b",
   "metadata": {},
   "source": [
    "### model 0"
   ]
  },
  {
   "cell_type": "code",
   "execution_count": null,
   "id": "47fbd58b",
   "metadata": {
    "ExecuteTime": {
     "end_time": "2022-07-05T12:40:47.824772Z",
     "start_time": "2022-07-05T12:40:47.806360Z"
    }
   },
   "outputs": [],
   "source": [
    "def model_0_fit(label):\n",
    "    def model(x):\n",
    "        return np.random.choice(label.unique() , size= x.shape[0] , p= label.value_counts() / label.size)\n",
    "    return model "
   ]
  },
  {
   "cell_type": "code",
   "execution_count": null,
   "id": "31ee5c63",
   "metadata": {
    "ExecuteTime": {
     "end_time": "2022-07-05T12:40:48.184418Z",
     "start_time": "2022-07-05T12:40:48.165854Z"
    }
   },
   "outputs": [],
   "source": [
    "model_0 = model_0_fit(y_train)"
   ]
  },
  {
   "cell_type": "code",
   "execution_count": null,
   "id": "518395e6",
   "metadata": {
    "ExecuteTime": {
     "end_time": "2022-07-05T12:40:48.560032Z",
     "start_time": "2022-07-05T12:40:48.546073Z"
    }
   },
   "outputs": [],
   "source": [
    "y_pred_0 = model_0(X_test)"
   ]
  },
  {
   "cell_type": "code",
   "execution_count": null,
   "id": "e6c8425a",
   "metadata": {
    "ExecuteTime": {
     "end_time": "2022-07-05T12:40:49.096114Z",
     "start_time": "2022-07-05T12:40:49.013158Z"
    }
   },
   "outputs": [],
   "source": [
    "model_analasys(y_test , y_pred_0)"
   ]
  },
  {
   "cell_type": "markdown",
   "id": "c7a62dc6",
   "metadata": {},
   "source": [
    "### static model"
   ]
  },
  {
   "cell_type": "code",
   "execution_count": null,
   "id": "fa20ad48",
   "metadata": {
    "ExecuteTime": {
     "end_time": "2022-07-05T12:40:50.733241Z",
     "start_time": "2022-07-05T12:40:50.717244Z"
    }
   },
   "outputs": [],
   "source": [
    "def nltk_model(X , th1 , th2):\n",
    "    sen = SentimentIntensityAnalyzer()\n",
    "    y = []\n",
    "    for i in X:\n",
    "        s = sen.polarity_scores(i)\n",
    "        if s['compound'] < th1:\n",
    "            y.append(-1)\n",
    "        elif s['compound'] > th2:\n",
    "            y.append(1)\n",
    "        else:\n",
    "            y.append(0)\n",
    "    return y"
   ]
  },
  {
   "cell_type": "code",
   "execution_count": null,
   "id": "6d1ecf72",
   "metadata": {
    "ExecuteTime": {
     "end_time": "2022-07-05T12:40:55.000992Z",
     "start_time": "2022-07-05T12:40:51.223096Z"
    }
   },
   "outputs": [],
   "source": [
    "y_pred_nltk = nltk_model(df.text , -0.01 , 0.01)"
   ]
  },
  {
   "cell_type": "code",
   "execution_count": null,
   "id": "05430b4e",
   "metadata": {
    "ExecuteTime": {
     "end_time": "2022-07-05T12:40:55.171392Z",
     "start_time": "2022-07-05T12:40:55.065383Z"
    }
   },
   "outputs": [],
   "source": [
    "model_analasys(y , y_pred_nltk)"
   ]
  },
  {
   "cell_type": "markdown",
   "id": "ce8b2fd1",
   "metadata": {},
   "source": [
    "## Random forest"
   ]
  },
  {
   "cell_type": "code",
   "execution_count": null,
   "id": "6899b9a1",
   "metadata": {
    "ExecuteTime": {
     "end_time": "2022-07-04T13:48:56.834037Z",
     "start_time": "2022-07-04T13:48:56.605821Z"
    }
   },
   "outputs": [],
   "source": [
    "from sklearn.ensemble import RandomForestClassifier"
   ]
  },
  {
   "cell_type": "code",
   "execution_count": null,
   "id": "f5913006",
   "metadata": {
    "ExecuteTime": {
     "end_time": "2022-07-04T13:48:58.291466Z",
     "start_time": "2022-07-04T13:48:58.276472Z"
    }
   },
   "outputs": [],
   "source": [
    "rf = RandomForestClassifier()\n",
    "rf_param = {\n",
    "    \"n_estimators\" : [50, 100, 150]\n",
    "}\n",
    "rf_gcv = GridSearchCV(estimator= rf , param_grid= rf_param , n_jobs= -1 , verbose= 3 , cv = 3)"
   ]
  },
  {
   "cell_type": "code",
   "execution_count": null,
   "id": "799462c6",
   "metadata": {
    "ExecuteTime": {
     "start_time": "2022-07-04T13:48:59.473Z"
    }
   },
   "outputs": [],
   "source": [
    "rf_gcv.fit(X_train , y_train)"
   ]
  },
  {
   "cell_type": "code",
   "execution_count": null,
   "id": "18f96eb3",
   "metadata": {
    "ExecuteTime": {
     "end_time": "2022-07-04T10:20:18.429479Z",
     "start_time": "2022-07-04T10:20:18.429479Z"
    }
   },
   "outputs": [],
   "source": [
    "pd.DataFrame(rf_gcv.cv_results_)"
   ]
  },
  {
   "cell_type": "code",
   "execution_count": null,
   "id": "abfea8cb",
   "metadata": {},
   "outputs": [],
   "source": [
    "model_analasys(y_test , rf_gcv.predict(X_test))"
   ]
  },
  {
   "cell_type": "markdown",
   "id": "d00e3eb2",
   "metadata": {},
   "source": [
    "### Save model"
   ]
  },
  {
   "cell_type": "code",
   "execution_count": null,
   "id": "259f20f7",
   "metadata": {},
   "outputs": [],
   "source": [
    "joblib.dump(rf_gcv.best_estimator_ , \"RandomForest_Model.pkl\")"
   ]
  },
  {
   "cell_type": "markdown",
   "id": "b234f4f7",
   "metadata": {},
   "source": [
    "### Load model"
   ]
  },
  {
   "cell_type": "code",
   "execution_count": null,
   "id": "c81af31c",
   "metadata": {},
   "outputs": [],
   "source": [
    "rf_gcv = joblib.load(\"RandomForest_Model.pkl\")"
   ]
  },
  {
   "cell_type": "markdown",
   "id": "5a0adfb2",
   "metadata": {},
   "source": [
    "## SVC"
   ]
  },
  {
   "cell_type": "code",
   "execution_count": null,
   "id": "18e14949",
   "metadata": {
    "ExecuteTime": {
     "start_time": "2022-07-04T13:52:19.081Z"
    }
   },
   "outputs": [],
   "source": [
    "from sklearn.svm import SVC"
   ]
  },
  {
   "cell_type": "code",
   "execution_count": null,
   "id": "589ff55c",
   "metadata": {
    "ExecuteTime": {
     "end_time": "2022-07-03T17:39:08.316904Z",
     "start_time": "2022-07-03T17:39:08.297967Z"
    }
   },
   "outputs": [],
   "source": [
    "svc =  SVC()\n",
    "svc_param = {\n",
    "    \"C\" : [1, 2],\n",
    "    \"kernel\":[\"poly\", \"rbf\"]\n",
    "}\n",
    "svc_gcv = GridSearchCV(estimator= svc , param_grid= svc_param , n_jobs= -1 , verbose= 3 , cv = 3)"
   ]
  },
  {
   "cell_type": "code",
   "execution_count": null,
   "id": "93fb47b2",
   "metadata": {
    "ExecuteTime": {
     "start_time": "2022-07-03T17:39:08.817Z"
    }
   },
   "outputs": [],
   "source": [
    "svc_gcv.fit(X_train , y_train)"
   ]
  },
  {
   "cell_type": "code",
   "execution_count": null,
   "id": "61c62795",
   "metadata": {
    "ExecuteTime": {
     "start_time": "2022-07-03T17:39:11.628Z"
    }
   },
   "outputs": [],
   "source": [
    "pd.DataFrame(svc_gcv.cv_results_)"
   ]
  },
  {
   "cell_type": "code",
   "execution_count": null,
   "id": "f79d8909",
   "metadata": {},
   "outputs": [],
   "source": [
    "model_analasys(y_test , svc_gcv.predict(X_test))"
   ]
  },
  {
   "cell_type": "markdown",
   "id": "6d0d2b9f",
   "metadata": {},
   "source": [
    "### Save model"
   ]
  },
  {
   "cell_type": "code",
   "execution_count": null,
   "id": "cda6e896",
   "metadata": {},
   "outputs": [],
   "source": [
    "joblib.dump(svc_gcv.best_estimator_ , \"SVC_Model.pkl\")"
   ]
  },
  {
   "cell_type": "markdown",
   "id": "fd434884",
   "metadata": {},
   "source": [
    "### Load model"
   ]
  },
  {
   "cell_type": "code",
   "execution_count": null,
   "id": "96119afa",
   "metadata": {},
   "outputs": [],
   "source": [
    "svc_gcv = joblib.load(\"SVC_Model.pkl\")"
   ]
  },
  {
   "cell_type": "markdown",
   "id": "0463f4f1",
   "metadata": {},
   "source": [
    "## KNN"
   ]
  },
  {
   "cell_type": "code",
   "execution_count": null,
   "id": "c6bd9365",
   "metadata": {
    "ExecuteTime": {
     "end_time": "2022-07-04T13:56:31.740115Z",
     "start_time": "2022-07-04T13:56:31.537638Z"
    }
   },
   "outputs": [],
   "source": [
    "from sklearn.neighbors import KNeighborsClassifier"
   ]
  },
  {
   "cell_type": "code",
   "execution_count": null,
   "id": "b0ceb5e6",
   "metadata": {
    "ExecuteTime": {
     "end_time": "2022-07-04T13:56:33.381905Z",
     "start_time": "2022-07-04T13:56:33.358664Z"
    }
   },
   "outputs": [],
   "source": [
    "knn = KNeighborsClassifier()\n",
    "knn_param = {\n",
    "    \"n_neighbors\" : [5 ,10 , 15 , 20 , 25 ,30, 35, 40, 45, 50],\n",
    "}\n",
    "knn_gcv = GridSearchCV(estimator= knn , param_grid= knn_param , n_jobs= -1 , verbose= 3 , cv = 3)"
   ]
  },
  {
   "cell_type": "code",
   "execution_count": null,
   "id": "46ee18f3",
   "metadata": {
    "ExecuteTime": {
     "start_time": "2022-07-04T13:56:29.384Z"
    }
   },
   "outputs": [],
   "source": [
    "knn_gcv.fit(X_train , y_train)"
   ]
  },
  {
   "cell_type": "code",
   "execution_count": null,
   "id": "97516a61",
   "metadata": {
    "ExecuteTime": {
     "start_time": "2022-07-04T13:56:29.942Z"
    }
   },
   "outputs": [],
   "source": [
    "pd.DataFrame(knn_gcv.cv_results_)"
   ]
  },
  {
   "cell_type": "code",
   "execution_count": null,
   "id": "71d85609",
   "metadata": {},
   "outputs": [],
   "source": [
    "model_analasys(y_test , knn_gcv.predict(X_test))"
   ]
  },
  {
   "cell_type": "markdown",
   "id": "df29f4dd",
   "metadata": {},
   "source": [
    "### Save model"
   ]
  },
  {
   "cell_type": "code",
   "execution_count": null,
   "id": "906b70db",
   "metadata": {},
   "outputs": [],
   "source": [
    "joblib.dump(knn_gcv.best_estimator_ , \"KNN_Model.pkl\")"
   ]
  },
  {
   "cell_type": "markdown",
   "id": "acca4071",
   "metadata": {},
   "source": [
    "### Load model"
   ]
  },
  {
   "cell_type": "code",
   "execution_count": null,
   "id": "80de0c0b",
   "metadata": {},
   "outputs": [],
   "source": [
    "knn_gcv = joblib.load(\"KNN_Model.pkl\")"
   ]
  },
  {
   "cell_type": "markdown",
   "id": "1f38027c",
   "metadata": {},
   "source": [
    "## Logistic regression"
   ]
  },
  {
   "cell_type": "code",
   "execution_count": null,
   "id": "37ebeb69",
   "metadata": {
    "ExecuteTime": {
     "end_time": "2022-07-03T17:30:17.095073Z",
     "start_time": "2022-07-03T17:30:17.087101Z"
    }
   },
   "outputs": [],
   "source": [
    "from sklearn.linear_model import LogisticRegression"
   ]
  },
  {
   "cell_type": "code",
   "execution_count": null,
   "id": "d5207d4f",
   "metadata": {
    "ExecuteTime": {
     "end_time": "2022-07-03T17:30:17.435898Z",
     "start_time": "2022-07-03T17:30:17.408395Z"
    }
   },
   "outputs": [],
   "source": [
    "lr = LogisticRegression()\n",
    "lr_param = {\n",
    "    \"penalty\" : [\"l2\", \"elasticnet\"]\n",
    "}\n",
    "lr_gcv = GridSearchCV(estimator= lr , param_grid= lr_param , n_jobs= -1 , verbose= 3 , cv = 3)"
   ]
  },
  {
   "cell_type": "code",
   "execution_count": null,
   "id": "eb647094",
   "metadata": {
    "ExecuteTime": {
     "end_time": "2022-07-03T17:31:00.359242Z",
     "start_time": "2022-07-03T17:30:17.912577Z"
    }
   },
   "outputs": [],
   "source": [
    "lr_gcv.fit(X_train , y_train)"
   ]
  },
  {
   "cell_type": "code",
   "execution_count": null,
   "id": "651e983d",
   "metadata": {
    "ExecuteTime": {
     "end_time": "2022-07-03T17:31:00.623542Z",
     "start_time": "2022-07-03T17:31:00.594038Z"
    }
   },
   "outputs": [],
   "source": [
    "pd.DataFrame(lr_gcv.cv_results_)"
   ]
  },
  {
   "cell_type": "code",
   "execution_count": null,
   "id": "b366af5d",
   "metadata": {},
   "outputs": [],
   "source": [
    "model_analasys(y_test , lr_gcv.predict(X_test))"
   ]
  },
  {
   "cell_type": "markdown",
   "id": "ec87a060",
   "metadata": {},
   "source": [
    "### Save model"
   ]
  },
  {
   "cell_type": "code",
   "execution_count": null,
   "id": "3d1a466b",
   "metadata": {},
   "outputs": [],
   "source": [
    "joblib.dump(lr_gcv.best_estimator_ , \"LogisticRegression_Model.pkl\")"
   ]
  },
  {
   "cell_type": "markdown",
   "id": "073d7f76",
   "metadata": {},
   "source": [
    "### Load model"
   ]
  },
  {
   "cell_type": "code",
   "execution_count": null,
   "id": "4d896d2e",
   "metadata": {},
   "outputs": [],
   "source": [
    "lr_gcv = joblib.load(\"LogisticRegression_Model.pkl\")"
   ]
  },
  {
   "cell_type": "markdown",
   "id": "1fa407c8",
   "metadata": {},
   "source": [
    "## GaussianNB"
   ]
  },
  {
   "cell_type": "code",
   "execution_count": null,
   "id": "ede588b7",
   "metadata": {
    "ExecuteTime": {
     "end_time": "2022-07-03T17:31:00.887421Z",
     "start_time": "2022-07-03T17:31:00.842763Z"
    }
   },
   "outputs": [],
   "source": [
    "from sklearn.naive_bayes import GaussianNB"
   ]
  },
  {
   "cell_type": "code",
   "execution_count": null,
   "id": "75c81ae8",
   "metadata": {
    "ExecuteTime": {
     "end_time": "2022-07-03T17:31:01.168307Z",
     "start_time": "2022-07-03T17:31:01.154297Z"
    }
   },
   "outputs": [],
   "source": [
    "gnb = GaussianNB()"
   ]
  },
  {
   "cell_type": "code",
   "execution_count": null,
   "id": "f66017a8",
   "metadata": {
    "ExecuteTime": {
     "end_time": "2022-07-03T17:31:03.983330Z",
     "start_time": "2022-07-03T17:31:01.401881Z"
    }
   },
   "outputs": [],
   "source": [
    "gnb_cv = cross_validate(gnb,X_train , y_train , cv = 3 , verbose= 1)"
   ]
  },
  {
   "cell_type": "code",
   "execution_count": null,
   "id": "71b5a059",
   "metadata": {
    "ExecuteTime": {
     "end_time": "2022-07-03T17:38:27.256479Z",
     "start_time": "2022-07-03T17:38:27.236027Z"
    }
   },
   "outputs": [],
   "source": [
    "pd.DataFrame(gnb_cv)"
   ]
  },
  {
   "cell_type": "markdown",
   "id": "e58ab71e",
   "metadata": {},
   "source": [
    "### Save model"
   ]
  },
  {
   "cell_type": "code",
   "execution_count": null,
   "id": "f2781288",
   "metadata": {},
   "outputs": [],
   "source": [
    "joblib.dump(gnb , \"GaussianNB_Model.pkl\")"
   ]
  },
  {
   "cell_type": "markdown",
   "id": "2b37e6df",
   "metadata": {},
   "source": [
    "### Load model"
   ]
  },
  {
   "cell_type": "code",
   "execution_count": null,
   "id": "dc9d3576",
   "metadata": {},
   "outputs": [],
   "source": [
    "gnb = joblib.load(\"GaussianNB_Model.pkl\")"
   ]
  },
  {
   "cell_type": "markdown",
   "id": "d56b9d85",
   "metadata": {},
   "source": [
    "## Voting"
   ]
  },
  {
   "cell_type": "code",
   "execution_count": null,
   "id": "741e3eac",
   "metadata": {},
   "outputs": [],
   "source": [
    "from sklearn.ensemble import VotingClassifier"
   ]
  },
  {
   "cell_type": "code",
   "execution_count": null,
   "id": "6ec78f6c",
   "metadata": {},
   "outputs": [],
   "source": []
  },
  {
   "cell_type": "code",
   "execution_count": null,
   "id": "2a2297ce",
   "metadata": {},
   "outputs": [],
   "source": []
  },
  {
   "cell_type": "code",
   "execution_count": null,
   "id": "a3f55aa9",
   "metadata": {},
   "outputs": [],
   "source": []
  },
  {
   "cell_type": "code",
   "execution_count": null,
   "id": "ad753554",
   "metadata": {},
   "outputs": [],
   "source": []
  },
  {
   "cell_type": "code",
   "execution_count": null,
   "id": "4565aa28",
   "metadata": {},
   "outputs": [],
   "source": []
  },
  {
   "cell_type": "markdown",
   "id": "77cbac7a",
   "metadata": {},
   "source": [
    "## Neural Network"
   ]
  },
  {
   "cell_type": "code",
   "execution_count": null,
   "id": "2634c99e",
   "metadata": {
    "ExecuteTime": {
     "end_time": "2022-07-05T12:41:12.883955Z",
     "start_time": "2022-07-05T12:41:07.806274Z"
    }
   },
   "outputs": [],
   "source": [
    "import os\n",
    "os.environ['TF_CPP_MIN_LOG_LEVEL'] = '2' \n",
    "import tensorflow as tf\n",
    "from tensorflow.keras.layers import LSTM , Embedding , Dense , Dropout , Activation , GlobalMaxPool1D\n",
    "from tensorflow.keras import Sequential,optimizers , Input , regularizers\n",
    "from tensorflow.keras.preprocessing.text import Tokenizer\n",
    "from tensorflow.keras.preprocessing.sequence import pad_sequences \n",
    "from tensorflow.keras.utils import to_categorical\n",
    "from tensorflow.keras.callbacks import EarlyStopping"
   ]
  },
  {
   "cell_type": "markdown",
   "id": "137585d7",
   "metadata": {},
   "source": [
    "### data preparation "
   ]
  },
  {
   "cell_type": "code",
   "execution_count": null,
   "id": "ec4d7f10",
   "metadata": {
    "ExecuteTime": {
     "end_time": "2022-07-05T12:41:12.960855Z",
     "start_time": "2022-07-05T12:41:12.948399Z"
    }
   },
   "outputs": [],
   "source": [
    "vocabsize = 20000"
   ]
  },
  {
   "cell_type": "code",
   "execution_count": null,
   "id": "9b4120b2",
   "metadata": {
    "ExecuteTime": {
     "end_time": "2022-07-05T12:41:13.789526Z",
     "start_time": "2022-07-05T12:41:13.025605Z"
    }
   },
   "outputs": [],
   "source": [
    "tok = Tokenizer(num_words= vocabsize)\n",
    "tok.fit_on_texts(df1.text)\n",
    "seqs = tok.texts_to_sequences(df1.text)"
   ]
  },
  {
   "cell_type": "code",
   "execution_count": null,
   "id": "ab730bf9",
   "metadata": {
    "ExecuteTime": {
     "end_time": "2022-07-05T12:41:13.964148Z",
     "start_time": "2022-07-05T12:41:13.887046Z"
    }
   },
   "outputs": [],
   "source": [
    "X_NN = pad_sequences(seqs , padding= \"post\")\n",
    "y_NN = to_categorical(y , 3)"
   ]
  },
  {
   "cell_type": "code",
   "execution_count": null,
   "id": "0d3da2d0",
   "metadata": {
    "ExecuteTime": {
     "end_time": "2022-07-05T12:41:14.074745Z",
     "start_time": "2022-07-05T12:41:14.059790Z"
    }
   },
   "outputs": [],
   "source": [
    "maxlen = X_NN.shape[1]"
   ]
  },
  {
   "cell_type": "code",
   "execution_count": null,
   "id": "d3594077",
   "metadata": {
    "ExecuteTime": {
     "end_time": "2022-07-05T12:41:14.185155Z",
     "start_time": "2022-07-05T12:41:14.170124Z"
    }
   },
   "outputs": [],
   "source": [
    "X_NN_train , X_NN_test , y_NN_train , y_NN_test = train_test_split(X_NN, y_NN, test_size= 0.25, random_state= 42)"
   ]
  },
  {
   "cell_type": "markdown",
   "id": "b9634d95",
   "metadata": {},
   "source": [
    "### Network creation"
   ]
  },
  {
   "cell_type": "code",
   "execution_count": null,
   "id": "4ba7d0f1",
   "metadata": {
    "ExecuteTime": {
     "end_time": "2022-07-05T12:41:15.125998Z",
     "start_time": "2022-07-05T12:41:14.281246Z"
    }
   },
   "outputs": [],
   "source": [
    "embedding = Embedding(input_dim= vocabsize , output_dim = 50 )\n",
    "lstm = LSTM(100 ,return_sequences= True)\n",
    "gmp = GlobalMaxPool1D()\n",
    "d1 = Dense(50, activation='relu' , kernel_regularizer = regularizers.l1_l2(l1=1e-5, l2=1e-4))\n",
    "d2 = Dense(25, activation='relu' , kernel_regularizer = regularizers.l1_l2(l1=1e-5, l2=1e-4))\n",
    "d3 = Dense(3, activation='softmax')"
   ]
  },
  {
   "cell_type": "code",
   "execution_count": null,
   "id": "d729e3f6",
   "metadata": {
    "ExecuteTime": {
     "end_time": "2022-07-05T12:41:15.234140Z",
     "start_time": "2022-07-05T12:41:15.224141Z"
    }
   },
   "outputs": [],
   "source": [
    "network = [embedding , lstm ,gmp, d1 ,Dropout(0.2) , d2 , Dropout(0.3) , d3]"
   ]
  },
  {
   "cell_type": "code",
   "execution_count": null,
   "id": "2c09684f",
   "metadata": {
    "ExecuteTime": {
     "end_time": "2022-07-05T12:41:15.787772Z",
     "start_time": "2022-07-05T12:41:15.363141Z"
    }
   },
   "outputs": [],
   "source": [
    "model = Sequential()\n",
    "model.add(Input(shape=(maxlen,)))\n",
    "for layer in network:\n",
    "    model.add(layer)\n",
    "rmp = optimizers.RMSprop(learning_rate= 15e-5 ,momentum=0.01 ,decay= .0001)\n",
    "model.compile(optimizer = rmp, loss = 'categorical_crossentropy', metrics = ['accuracy'])\n",
    "\n",
    "print(model.summary())\n"
   ]
  },
  {
   "cell_type": "code",
   "execution_count": null,
   "id": "7a47fe61",
   "metadata": {
    "ExecuteTime": {
     "end_time": "2022-07-05T12:41:15.898716Z",
     "start_time": "2022-07-05T12:41:15.887863Z"
    }
   },
   "outputs": [],
   "source": [
    "stopping = EarlyStopping(monitor='val_loss' , patience= 2 ,restore_best_weights = True)"
   ]
  },
  {
   "cell_type": "markdown",
   "id": "be2545f5",
   "metadata": {},
   "source": [
    "### Training"
   ]
  },
  {
   "cell_type": "code",
   "execution_count": null,
   "id": "13aa7b37",
   "metadata": {
    "ExecuteTime": {
     "end_time": "2022-07-05T12:42:28.498544Z",
     "start_time": "2022-07-05T12:41:16.011605Z"
    },
    "scrolled": false
   },
   "outputs": [],
   "source": [
    "model.fit(x= X_NN_train , y= y_NN_train ,  epochs= 20 ,validation_split= 0.15 ,callbacks= stopping)"
   ]
  },
  {
   "cell_type": "code",
   "execution_count": null,
   "id": "c4ade763",
   "metadata": {
    "ExecuteTime": {
     "end_time": "2022-07-05T12:42:28.672221Z",
     "start_time": "2022-07-05T12:42:28.642904Z"
    }
   },
   "outputs": [],
   "source": [
    "tf.keras.utils.plot_model(model, to_file=\"model.png\", show_shapes=True)"
   ]
  },
  {
   "cell_type": "code",
   "execution_count": null,
   "id": "b510d229",
   "metadata": {
    "ExecuteTime": {
     "end_time": "2022-07-05T12:42:28.858127Z",
     "start_time": "2022-07-05T12:42:28.845872Z"
    }
   },
   "outputs": [],
   "source": [
    "history = pd.DataFrame(model.history.history)"
   ]
  },
  {
   "cell_type": "code",
   "execution_count": null,
   "id": "ff29935c",
   "metadata": {
    "ExecuteTime": {
     "end_time": "2022-07-05T12:42:52.689326Z",
     "start_time": "2022-07-05T12:42:52.679325Z"
    }
   },
   "outputs": [],
   "source": [
    "history"
   ]
  },
  {
   "cell_type": "code",
   "execution_count": null,
   "id": "1c7ee122",
   "metadata": {
    "ExecuteTime": {
     "end_time": "2022-07-05T12:43:42.923741Z",
     "start_time": "2022-07-05T12:43:42.913657Z"
    }
   },
   "outputs": [],
   "source": [
    "def draw_lines(y1 , y2 , lbl1 , lbl2 , x):\n",
    "    plt.figure(figsize= (20 , 10), facecolor = \"black\" )\n",
    "    ax = plt.axes(facecolor = \"black\")\n",
    "    epochs_num = range(1 , x+1)\n",
    "    plt.plot(epochs_num, y1, '-r', label= lbl1)\n",
    "    plt.plot(epochs_num , y2, '-b', label= lbl2)\n",
    "    ax.tick_params(axis='x', colors='white')    \n",
    "    ax.tick_params(axis='y', colors='white')\n",
    "    ax.spines['left'].set_color('white')   \n",
    "    ax.spines['bottom'].set_color('white')  \n",
    "    plt.legend()\n",
    "    plt.show()"
   ]
  },
  {
   "cell_type": "code",
   "execution_count": null,
   "id": "5adf66c4",
   "metadata": {
    "ExecuteTime": {
     "end_time": "2022-07-05T12:43:43.722958Z",
     "start_time": "2022-07-05T12:43:43.381715Z"
    }
   },
   "outputs": [],
   "source": [
    "draw_lines(history.loss , history.val_loss , \"loss\" , \"val loss\" , history.shape[0])"
   ]
  },
  {
   "cell_type": "code",
   "execution_count": null,
   "id": "172f04d3",
   "metadata": {
    "ExecuteTime": {
     "end_time": "2022-07-05T12:43:44.180685Z",
     "start_time": "2022-07-05T12:43:43.846994Z"
    }
   },
   "outputs": [],
   "source": [
    "draw_lines(history.accuracy , history.val_accuracy , \"accuracy\" , \"val accuracy\" ,history.shape[0])"
   ]
  },
  {
   "cell_type": "markdown",
   "id": "65f2ceed",
   "metadata": {},
   "source": [
    "### Testing"
   ]
  },
  {
   "cell_type": "code",
   "execution_count": null,
   "id": "0e498a0f",
   "metadata": {
    "ExecuteTime": {
     "end_time": "2022-07-05T12:44:20.503604Z",
     "start_time": "2022-07-05T12:44:20.484055Z"
    }
   },
   "outputs": [],
   "source": [
    "def softmax_prediction(y_pred):\n",
    "    y_new = []\n",
    "    for p in y_pred:\n",
    "        l = [0, 0, 0]\n",
    "        l[np.argmax(p)] = 1\n",
    "        y_new.append(l)\n",
    "    return y_new"
   ]
  },
  {
   "cell_type": "code",
   "execution_count": null,
   "id": "d5311887",
   "metadata": {
    "ExecuteTime": {
     "end_time": "2022-07-05T12:44:21.995210Z",
     "start_time": "2022-07-05T12:44:20.629797Z"
    }
   },
   "outputs": [],
   "source": [
    "y_pred_NN = model.predict(X_NN_test)\n",
    "y_pred_NN = softmax_prediction(y_pred_NN)"
   ]
  },
  {
   "cell_type": "code",
   "execution_count": null,
   "id": "08cbcda6",
   "metadata": {
    "ExecuteTime": {
     "end_time": "2022-07-05T12:44:22.199612Z",
     "start_time": "2022-07-05T12:44:22.123114Z"
    }
   },
   "outputs": [],
   "source": [
    "model_analasys(y_NN_test.argmax(axis=1) , np.array(y_pred_NN).argmax(axis=1))\n"
   ]
  }
 ],
 "metadata": {
  "kernelspec": {
   "display_name": "Python 3.10.4 ('mlenv')",
   "language": "python",
   "name": "python3"
  },
  "language_info": {
   "codemirror_mode": {
    "name": "ipython",
    "version": 3
   },
   "file_extension": ".py",
   "mimetype": "text/x-python",
   "name": "python",
   "nbconvert_exporter": "python",
   "pygments_lexer": "ipython3",
   "version": "3.10.4"
  },
  "toc": {
   "base_numbering": 1,
   "nav_menu": {},
   "number_sections": true,
   "sideBar": true,
   "skip_h1_title": false,
   "title_cell": "Table of Contents",
   "title_sidebar": "Contents",
   "toc_cell": false,
   "toc_position": {
    "height": "calc(100% - 180px)",
    "left": "10px",
    "top": "150px",
    "width": "165px"
   },
   "toc_section_display": true,
   "toc_window_display": false
  },
  "varInspector": {
   "cols": {
    "lenName": 16,
    "lenType": 16,
    "lenVar": 40
   },
   "kernels_config": {
    "python": {
     "delete_cmd_postfix": "",
     "delete_cmd_prefix": "del ",
     "library": "var_list.py",
     "varRefreshCmd": "print(var_dic_list())"
    },
    "r": {
     "delete_cmd_postfix": ") ",
     "delete_cmd_prefix": "rm(",
     "library": "var_list.r",
     "varRefreshCmd": "cat(var_dic_list()) "
    }
   },
   "oldHeight": 499.84400000000005,
   "position": {
    "height": "521.844px",
    "left": "495px",
    "right": "20px",
    "top": "99px",
    "width": "680px"
   },
   "types_to_exclude": [
    "module",
    "function",
    "builtin_function_or_method",
    "instance",
    "_Feature"
   ],
   "varInspector_section_display": "block",
   "window_display": false
  },
  "vscode": {
   "interpreter": {
    "hash": "1f91c15ec56bcd0dd3b5eb0fafe2110359e9a991f75eb7c92ef2c0aa8be81d1b"
   }
  }
 },
 "nbformat": 4,
 "nbformat_minor": 5
}
