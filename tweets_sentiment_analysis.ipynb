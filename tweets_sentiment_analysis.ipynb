{
 "cells": [
  {
   "cell_type": "code",
   "execution_count": null,
   "id": "3656e47f",
   "metadata": {
    "ExecuteTime": {
     "end_time": "2022-07-12T07:27:10.972251Z",
     "start_time": "2022-07-12T07:27:05.495602Z"
    }
   },
   "outputs": [],
   "source": [
    "import pandas as pd\n",
    "import numpy as np\n",
    "import seaborn as sns\n",
    "import matplotlib.pyplot as plt\n",
    "\n",
    "import plotly.io as pio\n",
    "pio.templates.default = \"plotly_dark\"\n",
    "import plotly.express as px\n",
    "import plotly.graph_objects as go\n",
    "import plotly.subplots as ps\n",
    "\n",
    "import re\n",
    "import string\n",
    "\n",
    "from nltk.tokenize import word_tokenize\n",
    "from nltk.stem import WordNetLemmatizer\n",
    "from nltk.corpus import stopwords\n",
    "from nltk.sentiment.vader import SentimentIntensityAnalyzer\n",
    "\n",
    "from wordcloud import WordCloud, STOPWORDS\n",
    "\n",
    "import nltk\n",
    "# nltk.download('punkt')\n",
    "# nltk.download('omw-1.4')\n",
    "# nltk.download('stopwords')\n",
    "\n",
    "import warnings\n",
    "warnings.filterwarnings(\"ignore\")"
   ]
  },
  {
   "cell_type": "markdown",
   "id": "7ee14821",
   "metadata": {
    "heading_collapsed": true
   },
   "source": [
    "# Data Importing"
   ]
  },
  {
   "cell_type": "code",
   "execution_count": null,
   "id": "c135d0a2",
   "metadata": {
    "ExecuteTime": {
     "end_time": "2022-07-12T07:27:11.157583Z",
     "start_time": "2022-07-12T07:27:11.037986Z"
    },
    "hidden": true
   },
   "outputs": [],
   "source": [
    "df = pd.read_csv(\"Tweets.csv\")"
   ]
  },
  {
   "cell_type": "code",
   "execution_count": null,
   "id": "69cbff27",
   "metadata": {
    "ExecuteTime": {
     "end_time": "2022-07-12T07:27:11.264718Z",
     "start_time": "2022-07-12T07:27:11.235954Z"
    },
    "hidden": true
   },
   "outputs": [],
   "source": [
    "df.head()"
   ]
  },
  {
   "cell_type": "code",
   "execution_count": null,
   "id": "37604e4f",
   "metadata": {
    "ExecuteTime": {
     "end_time": "2022-07-12T07:27:11.388619Z",
     "start_time": "2022-07-12T07:27:11.344117Z"
    },
    "hidden": true,
    "scrolled": true
   },
   "outputs": [],
   "source": [
    "df.info()"
   ]
  },
  {
   "cell_type": "markdown",
   "id": "cba50b04",
   "metadata": {
    "heading_collapsed": true
   },
   "source": [
    "# preprocessing"
   ]
  },
  {
   "cell_type": "code",
   "execution_count": null,
   "id": "814f5069",
   "metadata": {
    "ExecuteTime": {
     "end_time": "2022-07-12T07:27:15.182977Z",
     "start_time": "2022-07-12T07:27:15.148165Z"
    },
    "hidden": true
   },
   "outputs": [],
   "source": [
    "df.dropna(inplace= True)"
   ]
  },
  {
   "cell_type": "code",
   "execution_count": null,
   "id": "06127785",
   "metadata": {
    "ExecuteTime": {
     "end_time": "2022-07-12T07:27:15.480519Z",
     "start_time": "2022-07-12T07:27:15.470664Z"
    },
    "hidden": true
   },
   "outputs": [],
   "source": [
    "df1 = df.drop([\"textID\" , \"selected_text\"] , axis = 1)"
   ]
  },
  {
   "cell_type": "code",
   "execution_count": null,
   "id": "119ed917",
   "metadata": {
    "ExecuteTime": {
     "end_time": "2022-07-12T07:27:15.810598Z",
     "start_time": "2022-07-12T07:27:15.796937Z"
    },
    "hidden": true
   },
   "outputs": [],
   "source": [
    "_stopwords = set(STOPWORDS).union(stopwords.words('english'))"
   ]
  },
  {
   "cell_type": "code",
   "execution_count": null,
   "id": "8e87d835",
   "metadata": {
    "ExecuteTime": {
     "end_time": "2022-07-12T07:27:17.982174Z",
     "start_time": "2022-07-12T07:27:17.973190Z"
    },
    "hidden": true
   },
   "outputs": [],
   "source": [
    "_stopwords.add(\"like\")"
   ]
  },
  {
   "cell_type": "code",
   "execution_count": null,
   "id": "dccae555",
   "metadata": {
    "ExecuteTime": {
     "end_time": "2022-07-12T07:27:18.260541Z",
     "start_time": "2022-07-12T07:27:18.244589Z"
    },
    "hidden": true,
    "scrolled": false
   },
   "outputs": [],
   "source": [
    "# removes text from tweets \n",
    "def preprocessor(text):\n",
    "    text = re.sub('[^a-zA-Z]',' ',text)\n",
    "    text = text.lower()\n",
    "    text = text.strip()\n",
    "    text = ' '.join([WordNetLemmatizer().lemmatize(word,pos='v') for word in word_tokenize(text)])    \n",
    "    text = ' '.join([word for word in word_tokenize(text) if word not in _stopwords])\n",
    "    return text"
   ]
  },
  {
   "cell_type": "code",
   "execution_count": null,
   "id": "e21b415b",
   "metadata": {
    "ExecuteTime": {
     "end_time": "2022-07-12T07:27:30.551321Z",
     "start_time": "2022-07-12T07:27:18.856074Z"
    },
    "hidden": true
   },
   "outputs": [],
   "source": [
    "df1[\"text\"] = df1[\"text\"].apply(preprocessor)"
   ]
  },
  {
   "cell_type": "code",
   "execution_count": null,
   "id": "6beb9f69",
   "metadata": {
    "ExecuteTime": {
     "end_time": "2022-07-12T07:27:30.644899Z",
     "start_time": "2022-07-12T07:27:30.632530Z"
    },
    "hidden": true
   },
   "outputs": [],
   "source": [
    "df1.insert(2,\"label\" , df1.sentiment.map({\"neutral\" : 0, \"negative\": -1 , \"positive\" : 1}))"
   ]
  },
  {
   "cell_type": "code",
   "execution_count": null,
   "id": "8c8e8d2e",
   "metadata": {
    "ExecuteTime": {
     "end_time": "2022-07-12T07:27:30.739640Z",
     "start_time": "2022-07-12T07:27:30.724675Z"
    },
    "hidden": true
   },
   "outputs": [],
   "source": [
    "# df1.to_csv(\"Tweets_preprocessed.csv\")"
   ]
  },
  {
   "cell_type": "code",
   "execution_count": null,
   "id": "7ba03989",
   "metadata": {
    "ExecuteTime": {
     "end_time": "2022-07-12T07:27:30.833071Z",
     "start_time": "2022-07-12T07:27:30.819167Z"
    },
    "hidden": true
   },
   "outputs": [],
   "source": [
    "df1.head()"
   ]
  },
  {
   "cell_type": "code",
   "execution_count": null,
   "id": "647c1fe0",
   "metadata": {
    "ExecuteTime": {
     "end_time": "2022-07-12T07:27:30.925435Z",
     "start_time": "2022-07-12T07:27:30.912398Z"
    },
    "hidden": true
   },
   "outputs": [],
   "source": [
    "df1.tail()"
   ]
  },
  {
   "cell_type": "markdown",
   "id": "2f6cbdaf",
   "metadata": {
    "heading_collapsed": true
   },
   "source": [
    "# Data Analyzing "
   ]
  },
  {
   "cell_type": "code",
   "execution_count": null,
   "id": "899eaa72",
   "metadata": {
    "ExecuteTime": {
     "end_time": "2022-07-12T06:57:27.551939Z",
     "start_time": "2022-07-12T06:57:27.544962Z"
    },
    "hidden": true
   },
   "outputs": [],
   "source": [
    "colormap = {\"positive\" : \"white\" ,\n",
    "           \"negative\": \"red\",\n",
    "           \"neutral\" : \"blue\"}"
   ]
  },
  {
   "cell_type": "markdown",
   "id": "3f1c191f",
   "metadata": {
    "hidden": true
   },
   "source": [
    "## Label Stats"
   ]
  },
  {
   "cell_type": "code",
   "execution_count": null,
   "id": "c9f70250",
   "metadata": {
    "ExecuteTime": {
     "end_time": "2022-07-12T06:57:28.721779Z",
     "start_time": "2022-07-12T06:57:28.702802Z"
    },
    "hidden": true
   },
   "outputs": [],
   "source": [
    "df1.describe()"
   ]
  },
  {
   "cell_type": "code",
   "execution_count": null,
   "id": "994728ab",
   "metadata": {
    "ExecuteTime": {
     "end_time": "2022-07-12T06:57:30.117004Z",
     "start_time": "2022-07-12T06:57:29.226241Z"
    },
    "hidden": true
   },
   "outputs": [],
   "source": [
    "px.pie(df , names = \"sentiment\" , values = np.ones_like(df1.sentiment) ,color = \"sentiment\" , color_discrete_map = colormap , hole= 0.3 )"
   ]
  },
  {
   "cell_type": "markdown",
   "id": "ebe7f0c2",
   "metadata": {
    "hidden": true
   },
   "source": [
    "## Word frequency"
   ]
  },
  {
   "cell_type": "code",
   "execution_count": null,
   "id": "26f0f5c7",
   "metadata": {
    "ExecuteTime": {
     "end_time": "2022-07-12T06:57:30.259361Z",
     "start_time": "2022-07-12T06:57:30.244891Z"
    },
    "hidden": true
   },
   "outputs": [],
   "source": [
    "# converts the data to one string\n",
    "def all_text(text_df):\n",
    "    combine = \"\"\n",
    "    for l in text_df.values:\n",
    "        combine += ' '.join(x for x in l.split() if len(x) > 3  )\n",
    "    return combine"
   ]
  },
  {
   "cell_type": "code",
   "execution_count": null,
   "id": "3cf17a72",
   "metadata": {
    "ExecuteTime": {
     "end_time": "2022-07-12T06:57:30.699216Z",
     "start_time": "2022-07-12T06:57:30.680276Z"
    },
    "hidden": true
   },
   "outputs": [],
   "source": [
    "# creates a word frequency series\n",
    "def word_freq(text_df):\n",
    "    freq = nltk.FreqDist(all_text(text_df).split())\n",
    "    freq_df = pd.DataFrame({\"words\" : list(freq.keys()),\n",
    "                           \"count\" : list(freq.values())})\n",
    "    return freq_df.sort_values(\"count\" , ascending= False)"
   ]
  },
  {
   "cell_type": "code",
   "execution_count": null,
   "id": "1093d0cb",
   "metadata": {
    "ExecuteTime": {
     "end_time": "2022-07-12T06:57:31.243364Z",
     "start_time": "2022-07-12T06:57:31.081362Z"
    },
    "hidden": true,
    "scrolled": true
   },
   "outputs": [],
   "source": [
    "neut_freq = word_freq(df1[df1.sentiment == \"neutral\"][\"text\"])\n",
    "\n",
    "pos_freq =  word_freq(df1[df1.sentiment == \"positive\"][\"text\"])\n",
    "\n",
    "neg_freq =  word_freq(df1[df1.sentiment == \"negative\"][\"text\"])"
   ]
  },
  {
   "cell_type": "code",
   "execution_count": null,
   "id": "1549d0a6",
   "metadata": {
    "ExecuteTime": {
     "end_time": "2022-07-12T06:57:31.554181Z",
     "start_time": "2022-07-12T06:57:31.548893Z"
    },
    "hidden": true
   },
   "outputs": [],
   "source": [
    "# create a wordcloud image\n",
    "def draw_wordcloud(words_df , title , color):\n",
    "    plt.imshow(WordCloud(stopwords = _stopwords, background_color = color).fit_words(words_df.set_index(\"words\").to_dict()[\"count\"]))\n",
    "    plt.title(title)\n",
    "    plt.axis(\"off\")"
   ]
  },
  {
   "cell_type": "code",
   "execution_count": null,
   "id": "feafd7ef",
   "metadata": {
    "ExecuteTime": {
     "end_time": "2022-07-12T06:57:34.032286Z",
     "start_time": "2022-07-12T06:57:32.194150Z"
    },
    "hidden": true
   },
   "outputs": [],
   "source": [
    "plt.figure(figsize= (20 , 30) ,facecolor='black')\n",
    "plt.subplot(1, 3 ,1)\n",
    "draw_wordcloud(neg_freq , \"negitive words\" , colormap[\"negative\"])\n",
    "\n",
    "plt.subplot(1, 3 ,2)\n",
    "draw_wordcloud(neut_freq , \"neutral words\" , colormap[\"neutral\"])\n",
    "\n",
    "plt.subplot(1 , 3 , 3)\n",
    "draw_wordcloud(pos_freq , \"positive words\" , colormap[\"positive\"])\n",
    "\n",
    "plt.show()"
   ]
  },
  {
   "cell_type": "code",
   "execution_count": null,
   "id": "b2b45ebc",
   "metadata": {
    "ExecuteTime": {
     "end_time": "2022-07-12T06:57:38.448693Z",
     "start_time": "2022-07-12T06:57:38.438681Z"
    },
    "hidden": true
   },
   "outputs": [],
   "source": [
    "neut_freq.insert(1 , \"sentiment\" ,\"neutral\" )\n",
    "neg_freq.insert(1 , \"sentiment\" ,\"negative\" )\n",
    "pos_freq.insert(1 , \"sentiment\" ,\"positive\" )"
   ]
  },
  {
   "cell_type": "code",
   "execution_count": null,
   "id": "f45e15aa",
   "metadata": {
    "ExecuteTime": {
     "end_time": "2022-07-12T06:57:39.710966Z",
     "start_time": "2022-07-12T06:57:39.701237Z"
    },
    "hidden": true
   },
   "outputs": [],
   "source": [
    "freq_words = pd.concat([ neut_freq[: 10] , neg_freq[: 10] ,pos_freq[: 10]])"
   ]
  },
  {
   "cell_type": "code",
   "execution_count": null,
   "id": "734e2bf5",
   "metadata": {
    "ExecuteTime": {
     "end_time": "2022-07-12T06:57:41.128321Z",
     "start_time": "2022-07-12T06:57:40.352165Z"
    },
    "hidden": true
   },
   "outputs": [],
   "source": [
    "px.sunburst(freq_words ,path= [\"sentiment\" , \"words\"],values = \"count\" , color = \"sentiment\" , color_discrete_map = colormap )"
   ]
  },
  {
   "cell_type": "markdown",
   "id": "7f4b5b11",
   "metadata": {
    "hidden": true
   },
   "source": [
    "## Text stats"
   ]
  },
  {
   "cell_type": "code",
   "execution_count": null,
   "id": "80a38ca5",
   "metadata": {
    "ExecuteTime": {
     "end_time": "2022-07-12T06:57:52.805189Z",
     "start_time": "2022-07-12T06:57:52.798213Z"
    },
    "hidden": true
   },
   "outputs": [],
   "source": [
    "def get_lengths(df , sentiment):\n",
    "    twt_lengths = []\n",
    "    wrd_length = []\n",
    "    for twt in df[df.sentiment == sentiment].text:\n",
    "        twt_splt = twt.split()\n",
    "        twt_lengths.append(len(twt_splt))\n",
    "        for w in twt_splt:\n",
    "            wrd_length.append(len(w))\n",
    "    _df = pd.DataFrame({\"twt_length\" : twt_lengths})\n",
    "    _df.insert(1 , \"sentiment\" ,sentiment )\n",
    "    _df2 = pd.DataFrame({\"wrd_length\" : wrd_length}) \n",
    "    _df2.insert(1 , \"sentiment\" ,sentiment )\n",
    "    return _df , _df2"
   ]
  },
  {
   "cell_type": "code",
   "execution_count": null,
   "id": "de3665a1",
   "metadata": {
    "ExecuteTime": {
     "end_time": "2022-07-12T06:57:53.444671Z",
     "start_time": "2022-07-12T06:57:53.292786Z"
    },
    "hidden": true
   },
   "outputs": [],
   "source": [
    "neut_len = get_lengths(df , \"neutral\")\n",
    "pos_len =  get_lengths(df , \"positive\")\n",
    "neg_len = get_lengths(df , \"negative\")\n",
    "\n",
    "twt_len = pd.concat([neut_len[0] , pos_len[0] ,  neg_len[0]])\n",
    "wrd_len = pd.concat([neut_len[1] , pos_len[1] ,  neg_len[1]])"
   ]
  },
  {
   "cell_type": "code",
   "execution_count": null,
   "id": "2409e952",
   "metadata": {
    "ExecuteTime": {
     "end_time": "2022-07-12T06:57:54.576124Z",
     "start_time": "2022-07-12T06:57:53.805454Z"
    },
    "hidden": true
   },
   "outputs": [],
   "source": [
    "fig = px.histogram(twt_len , x= 'twt_length'  , color=\"sentiment\", marginal=\"box\" , color_discrete_map= colormap , title = \"tweets length\")\n",
    "fig.update_layout(\n",
    "    updatemenus=[\n",
    "        dict(\n",
    "            type=\"buttons\",\n",
    "            bgcolor = \"rgb(17,17,17)\",\n",
    "            direction=\"right\",\n",
    "            font = {\"color\": \"white\"},\n",
    "            showactive = False,\n",
    "            x=1.15,\n",
    "            y=0,\n",
    "            buttons=list(\n",
    "                [\n",
    "                    dict(\n",
    "                        label=\"tweets / words\",\n",
    "                        method=\"update\",\n",
    "                        args=[{\"x\": [twt_len[\"twt_length\"]] },{\"title\" : \"tweets length\" , \"xaxis\": {'title': \"twt_length\"}}], # , \"xaxis\":[{'title': {'text': 'twt_length'}}]\n",
    "                        args2 = [{\"x\": [wrd_len[\"wrd_length\"]]},{\"title\" : \"words length\" , \"xaxis\": { 'title': \"wrd_length\"}}]\n",
    "                    ),\n",
    "                ]\n",
    "            ),\n",
    "        )\n",
    "    ]\n",
    ")"
   ]
  },
  {
   "cell_type": "markdown",
   "id": "8929721f",
   "metadata": {
    "hidden": true
   },
   "source": [
    "## objects deletion "
   ]
  },
  {
   "cell_type": "code",
   "execution_count": null,
   "id": "c2ae2791",
   "metadata": {
    "ExecuteTime": {
     "end_time": "2022-07-12T07:15:31.265172Z",
     "start_time": "2022-07-12T07:15:31.244250Z"
    },
    "hidden": true
   },
   "outputs": [],
   "source": [
    "# free space for model calculation\n",
    "\n",
    "del STOPWORDS\n",
    "del fig\n",
    "del freq_words\n",
    "del neg_freq\n",
    "del neg_len\n",
    "del neut_freq\n",
    "del neut_len\n",
    "del pos_freq\n",
    "del pos_len\n",
    "del stopwords\n",
    "del twt_len\n",
    "del wrd_len\n",
    "del _stopwords"
   ]
  },
  {
   "cell_type": "markdown",
   "id": "26f08e4b",
   "metadata": {
    "heading_collapsed": true
   },
   "source": [
    "# Model creation"
   ]
  },
  {
   "cell_type": "code",
   "execution_count": null,
   "id": "d0494836",
   "metadata": {
    "ExecuteTime": {
     "end_time": "2022-07-12T07:27:31.894449Z",
     "start_time": "2022-07-12T07:27:31.863613Z"
    },
    "hidden": true
   },
   "outputs": [],
   "source": [
    "from sklearn.model_selection import train_test_split , cross_validate , GridSearchCV\n",
    "from sklearn.metrics import classification_report , confusion_matrix\n",
    "from sklearn.feature_extraction.text import TfidfVectorizer\n",
    "from sklearn.decomposition import TruncatedSVD\n",
    "import joblib"
   ]
  },
  {
   "cell_type": "code",
   "execution_count": null,
   "id": "99d32851",
   "metadata": {
    "ExecuteTime": {
     "end_time": "2022-07-12T07:27:32.344136Z",
     "start_time": "2022-07-12T07:27:32.339202Z"
    },
    "hidden": true
   },
   "outputs": [],
   "source": [
    "def model_analasys(y_true , y_pred):\n",
    "    labels = [\"negative\" , \"neutral\" , \"positive\"]\n",
    "    print(classification_report(y_true= y_true , y_pred = y_pred ,target_names= labels))\n",
    "    fig = px.imshow(confusion_matrix(y_true= y_true , y_pred = y_pred ) ,x = labels , y = labels ,labels = {\"x\" : \"predicted\" , \"y\" : \"target\"} , color_continuous_scale= px.colors.sequential.PuBu)\n",
    "    fig.show()"
   ]
  },
  {
   "cell_type": "markdown",
   "id": "47a4eca4",
   "metadata": {
    "hidden": true
   },
   "source": [
    "## data preparation "
   ]
  },
  {
   "cell_type": "code",
   "execution_count": null,
   "id": "4081c2be",
   "metadata": {
    "ExecuteTime": {
     "end_time": "2022-07-12T07:27:33.256027Z",
     "start_time": "2022-07-12T07:27:33.239087Z"
    },
    "hidden": true
   },
   "outputs": [],
   "source": [
    "X = df1.text\n",
    "y = df1.label"
   ]
  },
  {
   "cell_type": "markdown",
   "id": "4267bd93",
   "metadata": {
    "hidden": true
   },
   "source": [
    "### TF IDF"
   ]
  },
  {
   "cell_type": "code",
   "execution_count": null,
   "id": "e8c29efa",
   "metadata": {
    "ExecuteTime": {
     "end_time": "2022-07-05T12:40:37.165755Z",
     "start_time": "2022-07-05T12:40:36.933378Z"
    },
    "hidden": true
   },
   "outputs": [],
   "source": [
    "tf_idf = TfidfVectorizer()\n",
    "X = tf_idf.fit_transform(X)"
   ]
  },
  {
   "cell_type": "code",
   "execution_count": null,
   "id": "57327dc0",
   "metadata": {
    "ExecuteTime": {
     "end_time": "2022-07-05T12:40:37.291456Z",
     "start_time": "2022-07-05T12:40:37.285459Z"
    },
    "hidden": true
   },
   "outputs": [],
   "source": [
    "X.shape"
   ]
  },
  {
   "cell_type": "markdown",
   "id": "d82f3984",
   "metadata": {
    "hidden": true
   },
   "source": [
    "### SVD"
   ]
  },
  {
   "cell_type": "code",
   "execution_count": null,
   "id": "8e7434cd",
   "metadata": {
    "ExecuteTime": {
     "end_time": "2022-07-12T07:16:04.834405Z",
     "start_time": "2022-07-12T07:16:04.663683Z"
    },
    "hidden": true
   },
   "outputs": [],
   "source": [
    "# svd = TruncatedSVD(10_000)\n",
    "# svd.fit(X)\n",
    "\n",
    "# exp_var_cumul = np.cumsum(svd.explained_variance_ratio_)\n",
    "# np.save(\"exp_var_cumul\" , exp_var_cumul)\n",
    "\n",
    "exp_var_cumul = np.load(\"exp_var_cumul.npy\")\n",
    "\n",
    "px.area(\n",
    "    x=range(1, exp_var_cumul.shape[0] + 1),\n",
    "    y=exp_var_cumul,\n",
    "    labels={\"x\": \"# Components\", \"y\": \"Explained Variance\"}\n",
    ")"
   ]
  },
  {
   "cell_type": "code",
   "execution_count": null,
   "id": "7a028812",
   "metadata": {
    "ExecuteTime": {
     "end_time": "2022-07-05T12:40:39.951400Z",
     "start_time": "2022-07-05T12:40:39.773429Z"
    },
    "hidden": true
   },
   "outputs": [],
   "source": [
    "svd = TruncatedSVD()\n",
    "X_2d = svd.fit_transform(X)"
   ]
  },
  {
   "cell_type": "code",
   "execution_count": null,
   "id": "52cb5804",
   "metadata": {
    "ExecuteTime": {
     "end_time": "2022-07-05T12:40:41.202441Z",
     "start_time": "2022-07-05T12:40:40.861423Z"
    },
    "hidden": true
   },
   "outputs": [],
   "source": [
    "px.scatter(x = X_2d[: ,0] , y = X_2d[: ,1]  , color= df1.sentiment , color_discrete_map= colormap)"
   ]
  },
  {
   "cell_type": "code",
   "execution_count": null,
   "id": "e14f84c7",
   "metadata": {
    "ExecuteTime": {
     "end_time": "2022-07-05T12:40:42.269601Z",
     "start_time": "2022-07-05T12:40:42.254603Z"
    },
    "hidden": true
   },
   "outputs": [],
   "source": [
    "svd = TruncatedSVD(4_000)\n",
    "X = svd.fit_transform(X)\n",
    "np.save(\"data_preprocessed\",X)"
   ]
  },
  {
   "cell_type": "markdown",
   "id": "29e4dde5",
   "metadata": {
    "hidden": true
   },
   "source": [
    "### load preprocessed data"
   ]
  },
  {
   "cell_type": "code",
   "execution_count": null,
   "id": "f333d882",
   "metadata": {
    "ExecuteTime": {
     "end_time": "2022-07-12T07:27:40.063329Z",
     "start_time": "2022-07-12T07:27:39.012412Z"
    },
    "hidden": true
   },
   "outputs": [],
   "source": [
    "X = np.load(\"data_preprocessed.npy\")"
   ]
  },
  {
   "cell_type": "markdown",
   "id": "edfedc53",
   "metadata": {
    "hidden": true
   },
   "source": [
    "### Train Test Split"
   ]
  },
  {
   "cell_type": "code",
   "execution_count": null,
   "id": "d52df549",
   "metadata": {
    "ExecuteTime": {
     "end_time": "2022-07-12T07:28:11.296355Z",
     "start_time": "2022-07-12T07:28:10.966623Z"
    },
    "hidden": true
   },
   "outputs": [],
   "source": [
    "X_train , X_test , y_train , y_test =  train_test_split(X , y , test_size= 0.25 , random_state= 42)"
   ]
  },
  {
   "cell_type": "code",
   "execution_count": null,
   "id": "a5a75f3f",
   "metadata": {
    "ExecuteTime": {
     "end_time": "2022-07-12T07:28:11.434521Z",
     "start_time": "2022-07-12T07:28:11.421551Z"
    },
    "hidden": true
   },
   "outputs": [],
   "source": [
    "total_num_of_samples = X.shape[0]\n",
    "print(\"           | features | samples | %\")\n",
    "print(\"Data size  | \" ,X.shape[1] , \"   | \" , X.shape[0] , \" | \" , X.shape[0]/total_num_of_samples )\n",
    "print(\"Train size | \" ,X_train.shape[1] , \"   | \" , X_train.shape[0] , \" | \" , X_train.shape[0]/total_num_of_samples )\n",
    "print(\"Test size  | \" ,X_test.shape[1] , \"   | \" , X_test.shape[0] , \"  | \" , X_test.shape[0]/total_num_of_samples )"
   ]
  },
  {
   "cell_type": "markdown",
   "id": "2e3700b3",
   "metadata": {
    "heading_collapsed": true,
    "hidden": true
   },
   "source": [
    "## basic models"
   ]
  },
  {
   "cell_type": "markdown",
   "id": "4c8a176b",
   "metadata": {
    "hidden": true
   },
   "source": [
    "### model 0"
   ]
  },
  {
   "cell_type": "code",
   "execution_count": null,
   "id": "47fbd58b",
   "metadata": {
    "ExecuteTime": {
     "end_time": "2022-07-05T12:40:47.824772Z",
     "start_time": "2022-07-05T12:40:47.806360Z"
    },
    "hidden": true
   },
   "outputs": [],
   "source": [
    "def model_0_fit(label):\n",
    "    def model(x):\n",
    "        return np.random.choice(label.unique() , size= x.shape[0] , p= label.value_counts() / label.size)\n",
    "    return model "
   ]
  },
  {
   "cell_type": "code",
   "execution_count": null,
   "id": "31ee5c63",
   "metadata": {
    "ExecuteTime": {
     "end_time": "2022-07-05T12:40:48.184418Z",
     "start_time": "2022-07-05T12:40:48.165854Z"
    },
    "hidden": true
   },
   "outputs": [],
   "source": [
    "model_0 = model_0_fit(y_train)"
   ]
  },
  {
   "cell_type": "code",
   "execution_count": null,
   "id": "518395e6",
   "metadata": {
    "ExecuteTime": {
     "end_time": "2022-07-05T12:40:48.560032Z",
     "start_time": "2022-07-05T12:40:48.546073Z"
    },
    "hidden": true
   },
   "outputs": [],
   "source": [
    "y_pred_0 = model_0(X_test)"
   ]
  },
  {
   "cell_type": "code",
   "execution_count": null,
   "id": "e6c8425a",
   "metadata": {
    "ExecuteTime": {
     "end_time": "2022-07-05T12:40:49.096114Z",
     "start_time": "2022-07-05T12:40:49.013158Z"
    },
    "hidden": true
   },
   "outputs": [],
   "source": [
    "model_analasys(y_test , y_pred_0)"
   ]
  },
  {
   "cell_type": "markdown",
   "id": "c7a62dc6",
   "metadata": {
    "heading_collapsed": true,
    "hidden": true
   },
   "source": [
    "### static model"
   ]
  },
  {
   "cell_type": "code",
   "execution_count": null,
   "id": "fa20ad48",
   "metadata": {
    "ExecuteTime": {
     "end_time": "2022-07-05T12:40:50.733241Z",
     "start_time": "2022-07-05T12:40:50.717244Z"
    },
    "hidden": true
   },
   "outputs": [],
   "source": [
    "def nltk_model(X , th1 , th2):\n",
    "    sen = SentimentIntensityAnalyzer()\n",
    "    y = []\n",
    "    for i in X:\n",
    "        s = sen.polarity_scores(i)\n",
    "        if s['compound'] < th1:\n",
    "            y.append(-1)\n",
    "        elif s['compound'] > th2:\n",
    "            y.append(1)\n",
    "        else:\n",
    "            y.append(0)\n",
    "    return y"
   ]
  },
  {
   "cell_type": "code",
   "execution_count": null,
   "id": "6d1ecf72",
   "metadata": {
    "ExecuteTime": {
     "end_time": "2022-07-05T12:40:55.000992Z",
     "start_time": "2022-07-05T12:40:51.223096Z"
    },
    "hidden": true
   },
   "outputs": [],
   "source": [
    "y_pred_nltk = nltk_model(df.text , -0.01 , 0.01)"
   ]
  },
  {
   "cell_type": "code",
   "execution_count": null,
   "id": "05430b4e",
   "metadata": {
    "ExecuteTime": {
     "end_time": "2022-07-05T12:40:55.171392Z",
     "start_time": "2022-07-05T12:40:55.065383Z"
    },
    "hidden": true
   },
   "outputs": [],
   "source": [
    "model_analasys(y , y_pred_nltk)"
   ]
  },
  {
   "cell_type": "markdown",
   "id": "ce8b2fd1",
   "metadata": {
    "heading_collapsed": true,
    "hidden": true
   },
   "source": [
    "## Random forest"
   ]
  },
  {
   "cell_type": "code",
   "execution_count": null,
   "id": "6899b9a1",
   "metadata": {
    "ExecuteTime": {
     "end_time": "2022-07-04T13:48:56.834037Z",
     "start_time": "2022-07-04T13:48:56.605821Z"
    },
    "hidden": true
   },
   "outputs": [],
   "source": [
    "from sklearn.ensemble import RandomForestClassifier"
   ]
  },
  {
   "cell_type": "code",
   "execution_count": null,
   "id": "f5913006",
   "metadata": {
    "ExecuteTime": {
     "end_time": "2022-07-04T13:48:58.291466Z",
     "start_time": "2022-07-04T13:48:58.276472Z"
    },
    "hidden": true
   },
   "outputs": [],
   "source": [
    "rf = RandomForestClassifier()\n",
    "rf_param = {\n",
    "    \"n_estimators\" : [50, 100, 150]\n",
    "}\n",
    "rf_gcv = GridSearchCV(estimator= rf , param_grid= rf_param , n_jobs= -1 , verbose= 3 , cv = 3)"
   ]
  },
  {
   "cell_type": "code",
   "execution_count": null,
   "id": "799462c6",
   "metadata": {
    "ExecuteTime": {
     "start_time": "2022-07-04T13:48:59.473Z"
    },
    "hidden": true
   },
   "outputs": [],
   "source": [
    "rf_gcv.fit(X_train , y_train)"
   ]
  },
  {
   "cell_type": "code",
   "execution_count": null,
   "id": "18f96eb3",
   "metadata": {
    "ExecuteTime": {
     "end_time": "2022-07-04T10:20:18.429479Z",
     "start_time": "2022-07-04T10:20:18.429479Z"
    },
    "hidden": true
   },
   "outputs": [],
   "source": [
    "pd.DataFrame(rf_gcv.cv_results_)"
   ]
  },
  {
   "cell_type": "code",
   "execution_count": null,
   "id": "abfea8cb",
   "metadata": {
    "hidden": true
   },
   "outputs": [],
   "source": [
    "model_analasys(y_test , rf_gcv.predict(X_test))"
   ]
  },
  {
   "cell_type": "markdown",
   "id": "d00e3eb2",
   "metadata": {
    "hidden": true
   },
   "source": [
    "### Save model"
   ]
  },
  {
   "cell_type": "code",
   "execution_count": null,
   "id": "259f20f7",
   "metadata": {
    "hidden": true
   },
   "outputs": [],
   "source": [
    "joblib.dump(rf_gcv.best_estimator_ , \"RandomForest_Model.pkl\")"
   ]
  },
  {
   "cell_type": "markdown",
   "id": "b234f4f7",
   "metadata": {
    "hidden": true
   },
   "source": [
    "### Load model"
   ]
  },
  {
   "cell_type": "code",
   "execution_count": null,
   "id": "c81af31c",
   "metadata": {
    "ExecuteTime": {
     "end_time": "2022-07-12T07:28:21.732277Z",
     "start_time": "2022-07-12T07:28:21.492903Z"
    },
    "hidden": true
   },
   "outputs": [],
   "source": [
    "rf_gcv = joblib.load(\"RandomForest_Model.pkl\")"
   ]
  },
  {
   "cell_type": "markdown",
   "id": "5a0adfb2",
   "metadata": {
    "heading_collapsed": true,
    "hidden": true
   },
   "source": [
    "## SVC"
   ]
  },
  {
   "cell_type": "code",
   "execution_count": null,
   "id": "18e14949",
   "metadata": {
    "ExecuteTime": {
     "start_time": "2022-07-04T13:52:19.081Z"
    },
    "hidden": true
   },
   "outputs": [],
   "source": [
    "from sklearn.svm import SVC"
   ]
  },
  {
   "cell_type": "code",
   "execution_count": null,
   "id": "589ff55c",
   "metadata": {
    "ExecuteTime": {
     "end_time": "2022-07-03T17:39:08.316904Z",
     "start_time": "2022-07-03T17:39:08.297967Z"
    },
    "hidden": true
   },
   "outputs": [],
   "source": [
    "svc =  SVC()\n",
    "svc_param = {\n",
    "    \"C\" : [1, 2],\n",
    "    \"kernel\":[\"poly\", \"rbf\"]\n",
    "}\n",
    "svc_gcv = GridSearchCV(estimator= svc , param_grid= svc_param , n_jobs= -1 , verbose= 3 , cv = 3)"
   ]
  },
  {
   "cell_type": "code",
   "execution_count": null,
   "id": "93fb47b2",
   "metadata": {
    "ExecuteTime": {
     "start_time": "2022-07-03T17:39:08.817Z"
    },
    "hidden": true
   },
   "outputs": [],
   "source": [
    "svc_gcv.fit(X_train , y_train)"
   ]
  },
  {
   "cell_type": "code",
   "execution_count": null,
   "id": "61c62795",
   "metadata": {
    "ExecuteTime": {
     "start_time": "2022-07-03T17:39:11.628Z"
    },
    "hidden": true
   },
   "outputs": [],
   "source": [
    "pd.DataFrame(svc_gcv.cv_results_)"
   ]
  },
  {
   "cell_type": "code",
   "execution_count": null,
   "id": "f79d8909",
   "metadata": {
    "hidden": true
   },
   "outputs": [],
   "source": [
    "model_analasys(y_test , svc_gcv.predict(X_test))"
   ]
  },
  {
   "cell_type": "markdown",
   "id": "6d0d2b9f",
   "metadata": {
    "hidden": true
   },
   "source": [
    "### Save model"
   ]
  },
  {
   "cell_type": "code",
   "execution_count": null,
   "id": "cda6e896",
   "metadata": {
    "hidden": true
   },
   "outputs": [],
   "source": [
    "joblib.dump(svc_gcv.best_estimator_ , \"SVC_Model.pkl\")"
   ]
  },
  {
   "cell_type": "markdown",
   "id": "fd434884",
   "metadata": {
    "hidden": true
   },
   "source": [
    "### Load model"
   ]
  },
  {
   "cell_type": "code",
   "execution_count": null,
   "id": "96119afa",
   "metadata": {
    "ExecuteTime": {
     "end_time": "2022-07-12T07:28:25.612674Z",
     "start_time": "2022-07-12T07:28:25.000742Z"
    },
    "hidden": true
   },
   "outputs": [],
   "source": [
    "svc_gcv = joblib.load(\"SVC_Model.pkl\")"
   ]
  },
  {
   "cell_type": "markdown",
   "id": "0463f4f1",
   "metadata": {
    "heading_collapsed": true,
    "hidden": true
   },
   "source": [
    "## KNN"
   ]
  },
  {
   "cell_type": "code",
   "execution_count": null,
   "id": "c6bd9365",
   "metadata": {
    "ExecuteTime": {
     "end_time": "2022-07-04T13:56:31.740115Z",
     "start_time": "2022-07-04T13:56:31.537638Z"
    },
    "hidden": true
   },
   "outputs": [],
   "source": [
    "from sklearn.neighbors import KNeighborsClassifier"
   ]
  },
  {
   "cell_type": "code",
   "execution_count": null,
   "id": "b0ceb5e6",
   "metadata": {
    "ExecuteTime": {
     "end_time": "2022-07-04T13:56:33.381905Z",
     "start_time": "2022-07-04T13:56:33.358664Z"
    },
    "hidden": true
   },
   "outputs": [],
   "source": [
    "knn = KNeighborsClassifier()\n",
    "knn_param = {\n",
    "    \"n_neighbors\" : [5 ,10 , 15 , 20 , 25 ,30, 35, 40, 45, 50],\n",
    "}\n",
    "knn_gcv = GridSearchCV(estimator= knn , param_grid= knn_param , n_jobs= -1 , verbose= 3 , cv = 3)"
   ]
  },
  {
   "cell_type": "code",
   "execution_count": null,
   "id": "46ee18f3",
   "metadata": {
    "ExecuteTime": {
     "start_time": "2022-07-04T13:56:29.384Z"
    },
    "hidden": true
   },
   "outputs": [],
   "source": [
    "knn_gcv.fit(X_train , y_train)"
   ]
  },
  {
   "cell_type": "code",
   "execution_count": null,
   "id": "97516a61",
   "metadata": {
    "ExecuteTime": {
     "start_time": "2022-07-04T13:56:29.942Z"
    },
    "hidden": true
   },
   "outputs": [],
   "source": [
    "pd.DataFrame(knn_gcv.cv_results_)"
   ]
  },
  {
   "cell_type": "code",
   "execution_count": null,
   "id": "71d85609",
   "metadata": {
    "hidden": true
   },
   "outputs": [],
   "source": [
    "model_analasys(y_test , knn_gcv.predict(X_test))"
   ]
  },
  {
   "cell_type": "markdown",
   "id": "df29f4dd",
   "metadata": {
    "hidden": true
   },
   "source": [
    "### Save model"
   ]
  },
  {
   "cell_type": "code",
   "execution_count": null,
   "id": "906b70db",
   "metadata": {
    "hidden": true
   },
   "outputs": [],
   "source": [
    "joblib.dump(knn_gcv.best_estimator_ , \"KNN_Model.pkl\")"
   ]
  },
  {
   "cell_type": "markdown",
   "id": "acca4071",
   "metadata": {
    "hidden": true
   },
   "source": [
    "### Load model"
   ]
  },
  {
   "cell_type": "code",
   "execution_count": null,
   "id": "80de0c0b",
   "metadata": {
    "ExecuteTime": {
     "end_time": "2022-07-12T07:28:31.782256Z",
     "start_time": "2022-07-12T07:28:31.060198Z"
    },
    "hidden": true
   },
   "outputs": [],
   "source": [
    "knn_gcv = joblib.load(\"KNN_Model.pkl\")"
   ]
  },
  {
   "cell_type": "markdown",
   "id": "1f38027c",
   "metadata": {
    "heading_collapsed": true,
    "hidden": true
   },
   "source": [
    "## Logistic regression"
   ]
  },
  {
   "cell_type": "code",
   "execution_count": null,
   "id": "37ebeb69",
   "metadata": {
    "ExecuteTime": {
     "end_time": "2022-07-03T17:30:17.095073Z",
     "start_time": "2022-07-03T17:30:17.087101Z"
    },
    "hidden": true
   },
   "outputs": [],
   "source": [
    "from sklearn.linear_model import LogisticRegression"
   ]
  },
  {
   "cell_type": "code",
   "execution_count": null,
   "id": "d5207d4f",
   "metadata": {
    "ExecuteTime": {
     "end_time": "2022-07-03T17:30:17.435898Z",
     "start_time": "2022-07-03T17:30:17.408395Z"
    },
    "hidden": true
   },
   "outputs": [],
   "source": [
    "lr = LogisticRegression()\n",
    "lr_param = {\n",
    "    \"penalty\" : [\"l2\", \"elasticnet\"]\n",
    "}\n",
    "lr_gcv = GridSearchCV(estimator= lr , param_grid= lr_param , n_jobs= -1 , verbose= 3 , cv = 3)"
   ]
  },
  {
   "cell_type": "code",
   "execution_count": null,
   "id": "eb647094",
   "metadata": {
    "ExecuteTime": {
     "end_time": "2022-07-03T17:31:00.359242Z",
     "start_time": "2022-07-03T17:30:17.912577Z"
    },
    "hidden": true
   },
   "outputs": [],
   "source": [
    "lr_gcv.fit(X_train , y_train)"
   ]
  },
  {
   "cell_type": "code",
   "execution_count": null,
   "id": "651e983d",
   "metadata": {
    "ExecuteTime": {
     "end_time": "2022-07-03T17:31:00.623542Z",
     "start_time": "2022-07-03T17:31:00.594038Z"
    },
    "hidden": true
   },
   "outputs": [],
   "source": [
    "pd.DataFrame(lr_gcv.cv_results_)"
   ]
  },
  {
   "cell_type": "code",
   "execution_count": null,
   "id": "b366af5d",
   "metadata": {
    "hidden": true
   },
   "outputs": [],
   "source": [
    "model_analasys(y_test , lr_gcv.predict(X_test))"
   ]
  },
  {
   "cell_type": "markdown",
   "id": "ec87a060",
   "metadata": {
    "hidden": true
   },
   "source": [
    "### Save model"
   ]
  },
  {
   "cell_type": "code",
   "execution_count": null,
   "id": "3d1a466b",
   "metadata": {
    "hidden": true
   },
   "outputs": [],
   "source": [
    "joblib.dump(lr_gcv.best_estimator_ , \"LogisticRegression_Model.pkl\")"
   ]
  },
  {
   "cell_type": "markdown",
   "id": "073d7f76",
   "metadata": {
    "hidden": true
   },
   "source": [
    "### Load model"
   ]
  },
  {
   "cell_type": "code",
   "execution_count": null,
   "id": "4d896d2e",
   "metadata": {
    "ExecuteTime": {
     "end_time": "2022-07-12T07:28:35.073963Z",
     "start_time": "2022-07-12T07:28:35.049503Z"
    },
    "hidden": true
   },
   "outputs": [],
   "source": [
    "lr_gcv = joblib.load(\"LogisticRegression_Model.pkl\")"
   ]
  },
  {
   "cell_type": "markdown",
   "id": "1fa407c8",
   "metadata": {
    "heading_collapsed": true,
    "hidden": true
   },
   "source": [
    "## GaussianNB"
   ]
  },
  {
   "cell_type": "code",
   "execution_count": null,
   "id": "ede588b7",
   "metadata": {
    "ExecuteTime": {
     "end_time": "2022-07-12T07:33:58.688337Z",
     "start_time": "2022-07-12T07:33:58.681362Z"
    },
    "hidden": true
   },
   "outputs": [],
   "source": [
    "from sklearn.naive_bayes import GaussianNB"
   ]
  },
  {
   "cell_type": "code",
   "execution_count": null,
   "id": "75c81ae8",
   "metadata": {
    "ExecuteTime": {
     "end_time": "2022-07-12T07:33:59.028325Z",
     "start_time": "2022-07-12T07:33:59.019636Z"
    },
    "hidden": true
   },
   "outputs": [],
   "source": [
    "gnb = GaussianNB()"
   ]
  },
  {
   "cell_type": "code",
   "execution_count": null,
   "id": "f66017a8",
   "metadata": {
    "ExecuteTime": {
     "end_time": "2022-07-12T07:34:06.600446Z",
     "start_time": "2022-07-12T07:33:59.387718Z"
    },
    "hidden": true
   },
   "outputs": [],
   "source": [
    "gnb_cv = cross_validate(gnb,X_train , y_train , cv = 3 , verbose= 1)"
   ]
  },
  {
   "cell_type": "code",
   "execution_count": null,
   "id": "71b5a059",
   "metadata": {
    "ExecuteTime": {
     "end_time": "2022-07-12T07:34:09.897860Z",
     "start_time": "2022-07-12T07:34:09.867729Z"
    },
    "hidden": true
   },
   "outputs": [],
   "source": [
    "pd.DataFrame(gnb_cv)"
   ]
  },
  {
   "cell_type": "code",
   "execution_count": null,
   "id": "78251f97",
   "metadata": {
    "ExecuteTime": {
     "end_time": "2022-07-12T07:35:31.644413Z",
     "start_time": "2022-07-12T07:35:30.094084Z"
    },
    "hidden": true
   },
   "outputs": [],
   "source": [
    "gnb.fit(X_train , y_train)"
   ]
  },
  {
   "cell_type": "markdown",
   "id": "e58ab71e",
   "metadata": {
    "hidden": true
   },
   "source": [
    "### Save model"
   ]
  },
  {
   "cell_type": "code",
   "execution_count": null,
   "id": "f2781288",
   "metadata": {
    "ExecuteTime": {
     "end_time": "2022-07-12T07:35:39.883460Z",
     "start_time": "2022-07-12T07:35:39.871501Z"
    },
    "hidden": true
   },
   "outputs": [],
   "source": [
    "joblib.dump(gnb , \"GaussianNB_Model.pkl\")"
   ]
  },
  {
   "cell_type": "markdown",
   "id": "2b37e6df",
   "metadata": {
    "hidden": true
   },
   "source": [
    "### Load model"
   ]
  },
  {
   "cell_type": "code",
   "execution_count": null,
   "id": "dc9d3576",
   "metadata": {
    "ExecuteTime": {
     "end_time": "2022-07-12T07:35:42.935932Z",
     "start_time": "2022-07-12T07:35:42.918104Z"
    },
    "hidden": true
   },
   "outputs": [],
   "source": [
    "gnb = joblib.load(\"GaussianNB_Model.pkl\")"
   ]
  },
  {
   "cell_type": "markdown",
   "id": "d56b9d85",
   "metadata": {
    "heading_collapsed": true,
    "hidden": true
   },
   "source": [
    "## Voting"
   ]
  },
  {
   "cell_type": "code",
   "execution_count": null,
   "id": "741e3eac",
   "metadata": {
    "ExecuteTime": {
     "end_time": "2022-07-12T07:28:50.126633Z",
     "start_time": "2022-07-12T07:28:44.536154Z"
    },
    "hidden": true
   },
   "outputs": [],
   "source": [
    "import os\n",
    "os.environ['TF_CPP_MIN_LOG_LEVEL'] = '2' \n",
    "import tensorflow as tf\n",
    "from tensorflow.keras.layers import LSTM , Embedding , Dense , Dropout , Activation , GlobalMaxPool1D\n",
    "from tensorflow.keras import Sequential,optimizers , Input , regularizers\n",
    "from tensorflow.keras.preprocessing.text import Tokenizer\n",
    "from tensorflow.keras.preprocessing.sequence import pad_sequences \n",
    "from tensorflow.keras.utils import to_categorical\n",
    "from tensorflow.keras.callbacks import EarlyStopping"
   ]
  },
  {
   "cell_type": "code",
   "execution_count": null,
   "id": "bfd1d22c",
   "metadata": {
    "ExecuteTime": {
     "end_time": "2022-07-12T08:15:50.882634Z",
     "start_time": "2022-07-12T08:15:50.867428Z"
    },
    "hidden": true
   },
   "outputs": [],
   "source": [
    "def draw_lines(y1 , y2 , lbl1 , lbl2 , x):\n",
    "    plt.figure(figsize= (20 , 10), facecolor = \"black\" )\n",
    "    ax = plt.axes(facecolor = \"black\")\n",
    "    epochs_num = range(1 , x+1)\n",
    "    plt.plot(epochs_num, y1, '-r', label= lbl1)\n",
    "    plt.plot(epochs_num , y2, '-b', label= lbl2)\n",
    "    ax.tick_params(axis='x', colors='white')    \n",
    "    ax.tick_params(axis='y', colors='white')\n",
    "    ax.spines['left'].set_color('white')   \n",
    "    ax.spines['bottom'].set_color('white')  \n",
    "    plt.legend()\n",
    "    plt.show()"
   ]
  },
  {
   "cell_type": "code",
   "execution_count": null,
   "id": "5df3ec2b",
   "metadata": {
    "ExecuteTime": {
     "end_time": "2022-07-12T08:18:57.421150Z",
     "start_time": "2022-07-12T08:18:57.406374Z"
    },
    "hidden": true
   },
   "outputs": [],
   "source": [
    "def softmax_prediction(y_pred):\n",
    "    y_new = []\n",
    "    for p in y_pred:\n",
    "        l = [0, 0, 0]\n",
    "        l[np.argmax(p)] = 1\n",
    "        y_new.append(l)\n",
    "    return y_new"
   ]
  },
  {
   "cell_type": "markdown",
   "id": "9d1f24e2",
   "metadata": {
    "hidden": true
   },
   "source": [
    "### data preparation"
   ]
  },
  {
   "cell_type": "code",
   "execution_count": null,
   "id": "6ec78f6c",
   "metadata": {
    "ExecuteTime": {
     "end_time": "2022-07-12T08:05:45.998360Z",
     "start_time": "2022-07-12T08:05:45.976462Z"
    },
    "hidden": true
   },
   "outputs": [],
   "source": [
    "def models_to_df(models, X, y):\n",
    "    X_new = [m.predict_proba(X) for m in models] \n",
    "    X_new.append(y.reshape(X_new[0].shape[0] , 1))\n",
    "    columns = [\"{0}_{1}\".format(type(m).__name__,i) for m in models for i in range(-1 , 2)]\n",
    "    columns.append(\"labels\")\n",
    "    df =  pd.DataFrame(np.concatenate(X_new , axis = 1) ,columns = columns )\n",
    "    return df"
   ]
  },
  {
   "cell_type": "code",
   "execution_count": null,
   "id": "2a2297ce",
   "metadata": {
    "ExecuteTime": {
     "end_time": "2022-07-12T08:35:36.901968Z",
     "start_time": "2022-07-12T08:35:36.895990Z"
    },
    "hidden": true
   },
   "outputs": [],
   "source": [
    "models_proba = [knn_gcv  , lr_gcv  , rf_gcv , gnb]"
   ]
  },
  {
   "cell_type": "code",
   "execution_count": null,
   "id": "a3f55aa9",
   "metadata": {
    "ExecuteTime": {
     "end_time": "2022-07-12T08:06:39.323935Z",
     "start_time": "2022-07-12T08:05:48.493686Z"
    },
    "hidden": true
   },
   "outputs": [],
   "source": [
    "df_pred_prob_train = models_to_df(models_proba , X_train , np.array(y_train))"
   ]
  },
  {
   "cell_type": "code",
   "execution_count": null,
   "id": "427bf80f",
   "metadata": {
    "ExecuteTime": {
     "end_time": "2022-07-12T08:07:34.704246Z",
     "start_time": "2022-07-12T08:07:34.021479Z"
    },
    "hidden": true
   },
   "outputs": [],
   "source": [
    "px.imshow(df_pred_prob_train.corr())"
   ]
  },
  {
   "cell_type": "code",
   "execution_count": null,
   "id": "0ca75456",
   "metadata": {
    "ExecuteTime": {
     "end_time": "2022-07-12T08:20:34.572427Z",
     "start_time": "2022-07-12T08:20:34.547322Z"
    },
    "hidden": true
   },
   "outputs": [],
   "source": [
    "X_train_v = df_pred_prob_train.drop(\"labels\",axis  = 1)\n",
    "y_train_v = to_categorical(df_pred_prob_train.labels , 3)"
   ]
  },
  {
   "cell_type": "code",
   "execution_count": null,
   "id": "c429e065",
   "metadata": {
    "ExecuteTime": {
     "end_time": "2022-07-12T08:23:57.186017Z",
     "start_time": "2022-07-12T08:23:39.577469Z"
    },
    "hidden": true
   },
   "outputs": [],
   "source": [
    "df_pred_prob_test = models_to_df(models_proba , X_test , np.array(y_test))"
   ]
  },
  {
   "cell_type": "code",
   "execution_count": null,
   "id": "17c2cc13",
   "metadata": {
    "ExecuteTime": {
     "end_time": "2022-07-12T08:24:00.503313Z",
     "start_time": "2022-07-12T08:24:00.493294Z"
    },
    "hidden": true
   },
   "outputs": [],
   "source": [
    "X_test_v = df_pred_prob_train.drop(\"labels\",axis  = 1)\n",
    "y_test_v = to_categorical(df_pred_prob_train.labels , 3)"
   ]
  },
  {
   "cell_type": "markdown",
   "id": "953d6b71",
   "metadata": {
    "hidden": true
   },
   "source": [
    "### Network creation"
   ]
  },
  {
   "cell_type": "code",
   "execution_count": null,
   "id": "861caf4d",
   "metadata": {
    "ExecuteTime": {
     "end_time": "2022-07-12T08:21:06.455564Z",
     "start_time": "2022-07-12T08:21:06.371188Z"
    },
    "hidden": true
   },
   "outputs": [],
   "source": [
    "d1_v = Dense(100, activation='relu' , kernel_regularizer = regularizers.l1_l2(l1=1e-5, l2=1e-4))\n",
    "d2_v = Dense(50, activation='relu' , kernel_regularizer = regularizers.l1_l2(l1=1e-5, l2=1e-4))\n",
    "d3_v = Dense(25, activation='relu' , kernel_regularizer = regularizers.l1_l2(l1=1e-5, l2=1e-4))\n",
    "d4_v = Dense(3, activation='softmax')"
   ]
  },
  {
   "cell_type": "code",
   "execution_count": null,
   "id": "147bb6e2",
   "metadata": {
    "ExecuteTime": {
     "end_time": "2022-07-12T08:21:10.771995Z",
     "start_time": "2022-07-12T08:21:10.751066Z"
    },
    "hidden": true
   },
   "outputs": [],
   "source": [
    "network_v = [d1_v ,Dropout(0.2) , d2_v , Dropout(0.3) , d3_v , d4_v]"
   ]
  },
  {
   "cell_type": "code",
   "execution_count": null,
   "id": "faa61d99",
   "metadata": {
    "ExecuteTime": {
     "end_time": "2022-07-12T08:21:23.669229Z",
     "start_time": "2022-07-12T08:21:22.511588Z"
    },
    "hidden": true
   },
   "outputs": [],
   "source": [
    "model_v = Sequential()\n",
    "model_v.add(Input(shape=(df_pred_prob_train.shape[1]-1,)))\n",
    "for layer in network_v:\n",
    "    model_v.add(layer)\n",
    "adam = optimizers.Adam()\n",
    "model_v.compile(optimizer = adam, loss = 'categorical_crossentropy', metrics = ['accuracy'])\n",
    "\n",
    "model_v.name = \"Voting\"\n",
    "\n",
    "print(model_v.summary())"
   ]
  },
  {
   "cell_type": "code",
   "execution_count": null,
   "id": "03222b41",
   "metadata": {
    "ExecuteTime": {
     "end_time": "2022-07-12T08:21:32.429553Z",
     "start_time": "2022-07-12T08:21:32.422578Z"
    },
    "hidden": true
   },
   "outputs": [],
   "source": [
    "stopping = EarlyStopping(monitor='val_loss' , patience= 2 ,restore_best_weights = True)"
   ]
  },
  {
   "cell_type": "markdown",
   "id": "b75e6326",
   "metadata": {
    "hidden": true
   },
   "source": [
    "### Training"
   ]
  },
  {
   "cell_type": "code",
   "execution_count": null,
   "id": "682aa60a",
   "metadata": {
    "ExecuteTime": {
     "end_time": "2022-07-12T08:21:56.757046Z",
     "start_time": "2022-07-12T08:21:46.259759Z"
    },
    "hidden": true
   },
   "outputs": [],
   "source": [
    "model_v.fit(x= X_train_v , y= y_train_v ,  epochs= 20 ,validation_split= 0.15 ,callbacks= stopping)"
   ]
  },
  {
   "cell_type": "code",
   "execution_count": null,
   "id": "93eefa8e",
   "metadata": {
    "ExecuteTime": {
     "end_time": "2022-07-12T08:22:03.801628Z",
     "start_time": "2022-07-12T08:22:03.786918Z"
    },
    "hidden": true
   },
   "outputs": [],
   "source": [
    "history_v = pd.DataFrame(model_v.history.history)"
   ]
  },
  {
   "cell_type": "code",
   "execution_count": null,
   "id": "699426c3",
   "metadata": {
    "ExecuteTime": {
     "end_time": "2022-07-12T08:22:07.598144Z",
     "start_time": "2022-07-12T08:22:04.494367Z"
    },
    "hidden": true
   },
   "outputs": [],
   "source": [
    "draw_lines(history_v.loss , history_v.val_loss , \"loss\" , \"val loss\" , history_v.shape[0])"
   ]
  },
  {
   "cell_type": "code",
   "execution_count": null,
   "id": "fd61b35b",
   "metadata": {
    "ExecuteTime": {
     "end_time": "2022-07-12T08:22:08.253141Z",
     "start_time": "2022-07-12T08:22:07.833105Z"
    },
    "hidden": true
   },
   "outputs": [],
   "source": [
    "draw_lines(history_v.accuracy , history_v.val_accuracy , \"accuracy\" , \"val accuracy\" ,history_v.shape[0])"
   ]
  },
  {
   "cell_type": "markdown",
   "id": "0f9a7b35",
   "metadata": {
    "hidden": true
   },
   "source": [
    "### Testing"
   ]
  },
  {
   "cell_type": "code",
   "execution_count": null,
   "id": "832f030b",
   "metadata": {
    "ExecuteTime": {
     "end_time": "2022-07-12T08:25:32.440003Z",
     "start_time": "2022-07-12T08:25:31.872474Z"
    },
    "hidden": true
   },
   "outputs": [],
   "source": [
    "y_pred_v = model_v.predict(X_test_v)\n",
    "y_pred_v = softmax_prediction(y_pred_v)"
   ]
  },
  {
   "cell_type": "code",
   "execution_count": null,
   "id": "de3f463b",
   "metadata": {
    "ExecuteTime": {
     "end_time": "2022-07-12T08:26:09.242065Z",
     "start_time": "2022-07-12T08:26:09.118788Z"
    },
    "hidden": true
   },
   "outputs": [],
   "source": [
    "model_analasys(y_test_v.argmax(axis=1) , np.array(y_pred_v).argmax(axis=1))"
   ]
  },
  {
   "cell_type": "markdown",
   "id": "77cbac7a",
   "metadata": {
    "heading_collapsed": true,
    "hidden": true
   },
   "source": [
    "## LSTM"
   ]
  },
  {
   "cell_type": "markdown",
   "id": "137585d7",
   "metadata": {
    "hidden": true
   },
   "source": [
    "### data preparation "
   ]
  },
  {
   "cell_type": "code",
   "execution_count": null,
   "id": "ec4d7f10",
   "metadata": {
    "ExecuteTime": {
     "end_time": "2022-07-12T08:27:59.645716Z",
     "start_time": "2022-07-12T08:27:59.638849Z"
    },
    "hidden": true
   },
   "outputs": [],
   "source": [
    "vocabsize = 20000"
   ]
  },
  {
   "cell_type": "code",
   "execution_count": null,
   "id": "9b4120b2",
   "metadata": {
    "ExecuteTime": {
     "end_time": "2022-07-12T08:28:00.916938Z",
     "start_time": "2022-07-12T08:28:00.063222Z"
    },
    "hidden": true
   },
   "outputs": [],
   "source": [
    "tok = Tokenizer(num_words= vocabsize)\n",
    "tok.fit_on_texts(df1.text)\n",
    "seqs = tok.texts_to_sequences(df1.text)"
   ]
  },
  {
   "cell_type": "code",
   "execution_count": null,
   "id": "ab730bf9",
   "metadata": {
    "ExecuteTime": {
     "end_time": "2022-07-12T08:28:01.511970Z",
     "start_time": "2022-07-12T08:28:01.390265Z"
    },
    "hidden": true
   },
   "outputs": [],
   "source": [
    "X_lstm = pad_sequences(seqs , padding= \"post\")\n",
    "y_lstm = to_categorical(y , 3)"
   ]
  },
  {
   "cell_type": "code",
   "execution_count": null,
   "id": "0d3da2d0",
   "metadata": {
    "ExecuteTime": {
     "end_time": "2022-07-12T08:28:13.894939Z",
     "start_time": "2022-07-12T08:28:13.879826Z"
    },
    "hidden": true
   },
   "outputs": [],
   "source": [
    "maxlen = X_lstm.shape[1]"
   ]
  },
  {
   "cell_type": "code",
   "execution_count": null,
   "id": "d3594077",
   "metadata": {
    "ExecuteTime": {
     "end_time": "2022-07-12T08:28:14.597656Z",
     "start_time": "2022-07-12T08:28:14.578459Z"
    },
    "hidden": true
   },
   "outputs": [],
   "source": [
    "X_train_lstm , X_test_lstm , y_train_lstm , y_test_lstm = train_test_split(X_lstm, y_lstm, test_size= 0.25, random_state= 42)"
   ]
  },
  {
   "cell_type": "markdown",
   "id": "b9634d95",
   "metadata": {
    "hidden": true
   },
   "source": [
    "### Network creation"
   ]
  },
  {
   "cell_type": "code",
   "execution_count": null,
   "id": "4ba7d0f1",
   "metadata": {
    "ExecuteTime": {
     "end_time": "2022-07-12T08:28:15.444540Z",
     "start_time": "2022-07-12T08:28:15.422615Z"
    },
    "hidden": true
   },
   "outputs": [],
   "source": [
    "embedding = Embedding(input_dim= vocabsize , output_dim = 50 )\n",
    "lstm = LSTM(100 ,return_sequences= True)\n",
    "gmp = GlobalMaxPool1D()\n",
    "d1_lstm = Dense(50, activation='relu' , kernel_regularizer = regularizers.l1_l2(l1=1e-5, l2=1e-4))\n",
    "d2_lstm = Dense(25, activation='relu' , kernel_regularizer = regularizers.l1_l2(l1=1e-5, l2=1e-4))\n",
    "d3_lstm = Dense(3, activation='softmax')"
   ]
  },
  {
   "cell_type": "code",
   "execution_count": null,
   "id": "d729e3f6",
   "metadata": {
    "ExecuteTime": {
     "end_time": "2022-07-12T08:28:16.115243Z",
     "start_time": "2022-07-12T08:28:16.103213Z"
    },
    "hidden": true
   },
   "outputs": [],
   "source": [
    "network_lstm = [embedding , lstm ,gmp, d1_lstm ,Dropout(0.2) , d2_lstm , Dropout(0.3) , d3_lstm]"
   ]
  },
  {
   "cell_type": "code",
   "execution_count": null,
   "id": "2c09684f",
   "metadata": {
    "ExecuteTime": {
     "end_time": "2022-07-12T08:28:17.195622Z",
     "start_time": "2022-07-12T08:28:16.740345Z"
    },
    "hidden": true
   },
   "outputs": [],
   "source": [
    "model_lstm = Sequential()\n",
    "model_lstm.add(Input(shape=(maxlen,)))\n",
    "for layer in network_lstm:\n",
    "    model_lstm.add(layer)\n",
    "rmp = optimizers.RMSprop(learning_rate= 15e-5 ,momentum=0.01 ,decay= .0001)\n",
    "model_lstm.compile(optimizer = rmp, loss = 'categorical_crossentropy', metrics = ['accuracy'])\n",
    "\n",
    "model_lstm.name = \"LSTM\"\n",
    "print(model_lstm.summary())\n"
   ]
  },
  {
   "cell_type": "markdown",
   "id": "be2545f5",
   "metadata": {
    "hidden": true
   },
   "source": [
    "### Training"
   ]
  },
  {
   "cell_type": "code",
   "execution_count": null,
   "id": "13aa7b37",
   "metadata": {
    "ExecuteTime": {
     "end_time": "2022-07-12T08:31:30.745499Z",
     "start_time": "2022-07-12T08:28:36.500105Z"
    },
    "hidden": true,
    "scrolled": false
   },
   "outputs": [],
   "source": [
    "model_lstm.fit(x= X_train_lstm , y= y_train_lstm ,  epochs= 20 ,validation_split= 0.15 ,callbacks= stopping)"
   ]
  },
  {
   "cell_type": "code",
   "execution_count": null,
   "id": "b510d229",
   "metadata": {
    "ExecuteTime": {
     "end_time": "2022-07-12T08:31:31.608714Z",
     "start_time": "2022-07-12T08:31:31.593726Z"
    },
    "hidden": true
   },
   "outputs": [],
   "source": [
    "history_lstm = pd.DataFrame(model_lstm.history.history)"
   ]
  },
  {
   "cell_type": "code",
   "execution_count": null,
   "id": "5adf66c4",
   "metadata": {
    "ExecuteTime": {
     "end_time": "2022-07-12T08:31:32.513812Z",
     "start_time": "2022-07-12T08:31:32.139249Z"
    },
    "hidden": true
   },
   "outputs": [],
   "source": [
    "draw_lines(history_lstm.loss , history_lstm.val_loss , \"loss\" , \"val loss\" , history_lstm.shape[0])"
   ]
  },
  {
   "cell_type": "code",
   "execution_count": null,
   "id": "172f04d3",
   "metadata": {
    "ExecuteTime": {
     "end_time": "2022-07-12T08:31:33.558020Z",
     "start_time": "2022-07-12T08:31:33.122924Z"
    },
    "hidden": true
   },
   "outputs": [],
   "source": [
    "draw_lines(history_lstm.accuracy , history_lstm.val_accuracy , \"accuracy\" , \"val accuracy\" ,history_lstm.shape[0])"
   ]
  },
  {
   "cell_type": "markdown",
   "id": "65f2ceed",
   "metadata": {
    "hidden": true
   },
   "source": [
    "### Testing"
   ]
  },
  {
   "cell_type": "code",
   "execution_count": null,
   "id": "d5311887",
   "metadata": {
    "ExecuteTime": {
     "end_time": "2022-07-12T08:31:35.896259Z",
     "start_time": "2022-07-12T08:31:34.182171Z"
    },
    "hidden": true
   },
   "outputs": [],
   "source": [
    "y_pred_lstm = model_lstm.predict(X_test_lstm)\n",
    "y_pred_lstm = softmax_prediction(y_pred_lstm)"
   ]
  },
  {
   "cell_type": "code",
   "execution_count": null,
   "id": "08cbcda6",
   "metadata": {
    "ExecuteTime": {
     "end_time": "2022-07-12T08:31:43.854198Z",
     "start_time": "2022-07-12T08:31:43.769717Z"
    },
    "hidden": true
   },
   "outputs": [],
   "source": [
    "model_analasys(y_test_lstm.argmax(axis=1) , np.array(y_pred_lstm).argmax(axis=1))"
   ]
  },
  {
   "cell_type": "markdown",
   "id": "0b67766b",
   "metadata": {},
   "source": [
    "# results"
   ]
  },
  {
   "cell_type": "code",
   "execution_count": null,
   "id": "6921ba35",
   "metadata": {
    "ExecuteTime": {
     "end_time": "2022-07-12T08:38:09.520831Z",
     "start_time": "2022-07-12T08:38:09.508817Z"
    }
   },
   "outputs": [],
   "source": [
    "models = models_proba.copy()\n",
    "models.append(svc_gcv)\n",
    "models.append(model_lstm)\n",
    "models.append(model_v)\n",
    "names = [type(m).__name__ for m in models]"
   ]
  },
  {
   "cell_type": "code",
   "execution_count": null,
   "id": "ca4b4c27",
   "metadata": {
    "ExecuteTime": {
     "end_time": "2022-07-12T08:42:40.057949Z",
     "start_time": "2022-07-12T08:42:40.043995Z"
    }
   },
   "outputs": [],
   "source": [
    "from sklearn.metrics import accuracy_score , recall_score , precision_score"
   ]
  },
  {
   "cell_type": "code",
   "execution_count": null,
   "id": "2efbec72",
   "metadata": {
    "ExecuteTime": {
     "end_time": "2022-07-12T08:54:49.648511Z",
     "start_time": "2022-07-12T08:54:49.643154Z"
    }
   },
   "outputs": [],
   "source": [
    "def prob_to_label(prob):\n",
    "    return np.argmax(np.array(prob) , axis = 1) -1"
   ]
  },
  {
   "cell_type": "code",
   "execution_count": null,
   "id": "6c94f2fd",
   "metadata": {
    "ExecuteTime": {
     "end_time": "2022-07-12T08:55:57.814704Z",
     "start_time": "2022-07-12T08:55:57.788006Z"
    }
   },
   "outputs": [],
   "source": [
    "y_preds = []\n",
    "for i , m in enumerate(models_proba):\n",
    "    y_preds.append(prob_to_label(df_pred_prob_test.iloc[: , i*3:i*3+3]))"
   ]
  },
  {
   "cell_type": "code",
   "execution_count": null,
   "id": "6b74b079",
   "metadata": {
    "ExecuteTime": {
     "end_time": "2022-07-12T09:07:37.772747Z",
     "start_time": "2022-07-12T09:07:37.756217Z"
    }
   },
   "outputs": [],
   "source": [
    "y_preds.append(svc_gcv.predict(X_test))\n",
    "y_preds.append(y_pred_lstm)\n",
    "y_preds.append(y_pred_v)"
   ]
  },
  {
   "cell_type": "code",
   "execution_count": null,
   "id": "4e31820c",
   "metadata": {
    "ExecuteTime": {
     "end_time": "2022-07-12T09:21:47.984727Z",
     "start_time": "2022-07-12T09:21:47.688392Z"
    }
   },
   "outputs": [],
   "source": [
    "accuracy_scores = []\n",
    "recall_scores = []\n",
    "precision_scores = []\n",
    "for i in range(5):\n",
    "    accuracy_scores.append(accuracy_score(y_test , y_preds[i]))\n",
    "    recall_scores.append(recall_score(y_test , y_preds[i] , average= \"macro\"))\n",
    "    precision_scores.append(precision_score(y_test , y_preds[i] , average= \"macro\"))\n",
    "\n",
    "accuracy_scores.append(accuracy_score(y_test_lstm , y_pred_lstm))\n",
    "recall_scores.append(recall_score(y_test_lstm , y_pred_lstm , average= \"macro\"))\n",
    "precision_scores.append(precision_score(y_test_lstm , y_pred_lstm , average= \"macro\"))\n",
    "\n",
    "accuracy_scores.append(accuracy_score(y_test_v , y_pred_v))\n",
    "recall_scores.append(recall_score(y_test_v , y_pred_v , average= \"macro\"))\n",
    "precision_scores.append(precision_score(y_test_v , y_pred_v , average= \"macro\"))\n"
   ]
  },
  {
   "cell_type": "code",
   "execution_count": null,
   "id": "2fd6eb19",
   "metadata": {
    "ExecuteTime": {
     "end_time": "2022-07-12T09:29:44.204612Z",
     "start_time": "2022-07-12T09:29:44.186846Z"
    }
   },
   "outputs": [],
   "source": [
    "import plotly.subplots as ps"
   ]
  },
  {
   "cell_type": "code",
   "execution_count": null,
   "id": "9246163f",
   "metadata": {
    "ExecuteTime": {
     "end_time": "2022-07-12T09:47:12.868579Z",
     "start_time": "2022-07-12T09:47:12.840502Z"
    }
   },
   "outputs": [],
   "source": [
    "t1 = go.Bar(x = names,y = accuracy_scores, name = \"Accuracy\" )\n",
    "t3 = go.Bar(x = names,y = recall_scores, name = \"Recall\")\n",
    "t2 = go.Bar(x = names,y = precision_scores, name = \"Precision\")\n",
    "data = [t1 , t2 , t3]\n",
    "layout = go.Layout(title= \"Results\")\n",
    "fig = go.Figure(data , layout)\n",
    "fig.show()"
   ]
  },
  {
   "cell_type": "code",
   "execution_count": null,
   "id": "5e4d3693",
   "metadata": {
    "ExecuteTime": {
     "end_time": "2022-07-12T09:53:32.378058Z",
     "start_time": "2022-07-12T09:53:32.354489Z"
    }
   },
   "outputs": [],
   "source": [
    "t1 = go.Bar(x = names,y = accuracy_scores, name = \"Accuracy\" , marker_color= list(range(len (names))))\n",
    "data = [t1 , t2 , t3]\n",
    "layout = go.Layout(title= \"Accuracy\")\n",
    "fig = go.Figure(t1 , layout)\n",
    "fig.update_layout(\n",
    "    updatemenus=[\n",
    "        dict(\n",
    "            type=\"buttons\",\n",
    "            bgcolor = \"rgb(17,17,17)\",\n",
    "            direction=\"down\",\n",
    "            font = {\"color\": \"white\"},\n",
    "            showactive = False,\n",
    "            x=1.10,\n",
    "            y=0.5,\n",
    "            buttons=list(\n",
    "                [\n",
    "                    dict(\n",
    "                        label=\"recall\",\n",
    "                        method=\"update\",\n",
    "                        args=[{\"y\": [recall_scores] },{\"title\" : \"Recall\"}], # , \"xaxis\":[{'title': {'text': 'twt_length'}}]\n",
    "                    ),\n",
    "                    dict(\n",
    "                        label=\"precision\",\n",
    "                        method=\"update\",\n",
    "                        args=[{\"y\": [precision_scores] },{\"title\" : \"Precision\"}], # , \"xaxis\":[{'title': {'text': 'twt_length'}}]\n",
    "                    ),\n",
    "                    dict(\n",
    "                        label=\"accuracy\",\n",
    "                        method=\"update\",\n",
    "                        args=[{\"y\": [accuracy_scores] },{\"title\" : \"Accuracy\"}], # , \"xaxis\":[{'title': {'text': 'twt_length'}}]\n",
    "                    ),\n",
    "                    \n",
    "                ]\n",
    "            ),\n",
    "        )\n",
    "    ]\n",
    ")\n",
    "fig.show()"
   ]
  }
 ],
 "metadata": {
  "kernelspec": {
   "display_name": "Python 3 (ipykernel)",
   "language": "python",
   "name": "python3"
  },
  "language_info": {
   "codemirror_mode": {
    "name": "ipython",
    "version": 3
   },
   "file_extension": ".py",
   "mimetype": "text/x-python",
   "name": "python",
   "nbconvert_exporter": "python",
   "pygments_lexer": "ipython3",
   "version": "3.9.7"
  },
  "toc": {
   "base_numbering": 1,
   "nav_menu": {},
   "number_sections": true,
   "sideBar": true,
   "skip_h1_title": false,
   "title_cell": "Table of Contents",
   "title_sidebar": "Contents",
   "toc_cell": false,
   "toc_position": {
    "height": "calc(100% - 180px)",
    "left": "10px",
    "top": "150px",
    "width": "272.003px"
   },
   "toc_section_display": true,
   "toc_window_display": false
  },
  "varInspector": {
   "cols": {
    "lenName": 16,
    "lenType": 16,
    "lenVar": 40
   },
   "kernels_config": {
    "python": {
     "delete_cmd_postfix": "",
     "delete_cmd_prefix": "del ",
     "library": "var_list.py",
     "varRefreshCmd": "print(var_dic_list())"
    },
    "r": {
     "delete_cmd_postfix": ") ",
     "delete_cmd_prefix": "rm(",
     "library": "var_list.r",
     "varRefreshCmd": "cat(var_dic_list()) "
    }
   },
   "oldHeight": 499.84400000000005,
   "position": {
    "height": "521.832px",
    "left": "408.997px",
    "right": "20px",
    "top": "93.9886px",
    "width": "680px"
   },
   "types_to_exclude": [
    "module",
    "function",
    "builtin_function_or_method",
    "instance",
    "_Feature"
   ],
   "varInspector_section_display": "block",
   "window_display": false
  },
  "vscode": {
   "interpreter": {
    "hash": "1f91c15ec56bcd0dd3b5eb0fafe2110359e9a991f75eb7c92ef2c0aa8be81d1b"
   }
  }
 },
 "nbformat": 4,
 "nbformat_minor": 5
}
